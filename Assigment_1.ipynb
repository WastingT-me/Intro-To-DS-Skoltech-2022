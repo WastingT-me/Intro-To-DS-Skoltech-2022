{
  "cells": [
    {
      "cell_type": "markdown",
      "metadata": {
        "id": "4fengSNSWl1X"
      },
      "source": [
        "# Assignment 1. Traffic volume prediction.\n",
        "by Anvar Kurmukov,\n",
        "updated by Bogdan Kirillov, Hekmat Taherinejad, Satyarth Mishra Sharma\n",
        "\n",
        "---\n",
        "\n",
        "By the end of this task you will be able to manipulate huge tabular data:\n",
        "1. Compute different column's statistics (min, max, mean, quantiles etc.);\n",
        "2. Select observations/features by condition/index;\n",
        "3. Create new non-linear combinations of the columns (feature engineering);\n",
        "4. Perform automated data cleaning;\n",
        "\n",
        "and more.\n",
        "\n",
        "---\n",
        "\n",
        "For those who are not familiar with `pandas` we recommend these (alternative) tutorials:\n",
        "\n",
        "1. Single notebook, covers basic pandas functionality (starting with renaming columns ending with using map, apply etc) ~ 30 short examples with links on videos https://nbviewer.jupyter.org/github/justmarkham/pandas-videos/blob/master/pandas.ipynb . Highly recommended for everyone. (about 1-3 hours to go through)\n",
        "\n",
        "2. https://github.com/guipsamora/pandas_exercises/ 11 topics covering all essential functionality with excersises (with solutions).\n",
        "\n",
        "This task will be an easy ride after these tutorials.\n",
        "\n",
        "---"
      ]
    },
    {
      "cell_type": "markdown",
      "metadata": {
        "id": "zBv4L3BoWtY8"
      },
      "source": [
        "We are using a public dataset compiling weather information and traffic data continuously monitored in the Twin Cities, Minnesota from 2012 to 2018. The dataset page can be found [here](https://archive.ics.uci.edu/ml/datasets/Metro+Interstate+Traffic+Volume). We've slightly modified it so please download the dataset provided on Canvas.  \n",
        "\n",
        "You need to download `Metro_Interstate_Traffic_Volume.csv` and place it in the same directory as this notebook.\n"
      ]
    },
    {
      "cell_type": "code",
      "execution_count": null,
      "metadata": {
        "id": "rYmsZ_BQWx6a"
      },
      "outputs": [],
      "source": [
        "import numpy as np\n",
        "import pandas as pd"
      ]
    },
    {
      "cell_type": "markdown",
      "metadata": {
        "id": "8mp5vQW5Xtw5"
      },
      "source": [
        "# 1. Loading data\n",
        "\n",
        "As always in Data Science you are starting with making nice cup of tea (or coffee). Your next move is to load the data:\n",
        "\n",
        "- Start with loading `Metro_Interstate_Traffic_Volume.csv` file using `pd.read_csv()` function.\n",
        "- You may also want to increase maximal displayed pandas columns: set `pd.options.display.max_columns` to 30\n",
        "- Print top 10 observations in the table. `.head()`\n",
        "- Print last 10 observations in the table. `.tail()`\n",
        "- Print all the data columns names using method `.columns`\n",
        "- Print data size (number of rows and columns). This is the `.shape` of the data.\n",
        "\n",
        "*Almost* every python has a `head` and a `tail` just as DataFrames do.\n",
        "\n",
        "If you are using Google Colab, you can upload the file in the cell below. If you are NOT using Colab, set COLAB_P in the cell below to False."
      ]
    },
    {
      "cell_type": "code",
      "execution_count": null,
      "metadata": {
        "colab": {
          "base_uri": "https://localhost:8080/",
          "height": 419
        },
        "id": "KS_2J7IXX9ZS",
        "outputId": "2c7950b4-7fbf-41c9-b50d-8cf0def14ae3"
      },
      "outputs": [
        {
          "output_type": "stream",
          "name": "stdout",
          "text": [
            "Upload your file, then read it with pd.read_csv()\n"
          ]
        },
        {
          "output_type": "display_data",
          "data": {
            "text/plain": [
              "<IPython.core.display.HTML object>"
            ],
            "text/html": [
              "\n",
              "     <input type=\"file\" id=\"files-ed159a8c-b5b0-4ae5-a933-34dcf684cf1d\" name=\"files[]\" multiple disabled\n",
              "        style=\"border:none\" />\n",
              "     <output id=\"result-ed159a8c-b5b0-4ae5-a933-34dcf684cf1d\">\n",
              "      Upload widget is only available when the cell has been executed in the\n",
              "      current browser session. Please rerun this cell to enable.\n",
              "      </output>\n",
              "      <script>// Copyright 2017 Google LLC\n",
              "//\n",
              "// Licensed under the Apache License, Version 2.0 (the \"License\");\n",
              "// you may not use this file except in compliance with the License.\n",
              "// You may obtain a copy of the License at\n",
              "//\n",
              "//      http://www.apache.org/licenses/LICENSE-2.0\n",
              "//\n",
              "// Unless required by applicable law or agreed to in writing, software\n",
              "// distributed under the License is distributed on an \"AS IS\" BASIS,\n",
              "// WITHOUT WARRANTIES OR CONDITIONS OF ANY KIND, either express or implied.\n",
              "// See the License for the specific language governing permissions and\n",
              "// limitations under the License.\n",
              "\n",
              "/**\n",
              " * @fileoverview Helpers for google.colab Python module.\n",
              " */\n",
              "(function(scope) {\n",
              "function span(text, styleAttributes = {}) {\n",
              "  const element = document.createElement('span');\n",
              "  element.textContent = text;\n",
              "  for (const key of Object.keys(styleAttributes)) {\n",
              "    element.style[key] = styleAttributes[key];\n",
              "  }\n",
              "  return element;\n",
              "}\n",
              "\n",
              "// Max number of bytes which will be uploaded at a time.\n",
              "const MAX_PAYLOAD_SIZE = 100 * 1024;\n",
              "\n",
              "function _uploadFiles(inputId, outputId) {\n",
              "  const steps = uploadFilesStep(inputId, outputId);\n",
              "  const outputElement = document.getElementById(outputId);\n",
              "  // Cache steps on the outputElement to make it available for the next call\n",
              "  // to uploadFilesContinue from Python.\n",
              "  outputElement.steps = steps;\n",
              "\n",
              "  return _uploadFilesContinue(outputId);\n",
              "}\n",
              "\n",
              "// This is roughly an async generator (not supported in the browser yet),\n",
              "// where there are multiple asynchronous steps and the Python side is going\n",
              "// to poll for completion of each step.\n",
              "// This uses a Promise to block the python side on completion of each step,\n",
              "// then passes the result of the previous step as the input to the next step.\n",
              "function _uploadFilesContinue(outputId) {\n",
              "  const outputElement = document.getElementById(outputId);\n",
              "  const steps = outputElement.steps;\n",
              "\n",
              "  const next = steps.next(outputElement.lastPromiseValue);\n",
              "  return Promise.resolve(next.value.promise).then((value) => {\n",
              "    // Cache the last promise value to make it available to the next\n",
              "    // step of the generator.\n",
              "    outputElement.lastPromiseValue = value;\n",
              "    return next.value.response;\n",
              "  });\n",
              "}\n",
              "\n",
              "/**\n",
              " * Generator function which is called between each async step of the upload\n",
              " * process.\n",
              " * @param {string} inputId Element ID of the input file picker element.\n",
              " * @param {string} outputId Element ID of the output display.\n",
              " * @return {!Iterable<!Object>} Iterable of next steps.\n",
              " */\n",
              "function* uploadFilesStep(inputId, outputId) {\n",
              "  const inputElement = document.getElementById(inputId);\n",
              "  inputElement.disabled = false;\n",
              "\n",
              "  const outputElement = document.getElementById(outputId);\n",
              "  outputElement.innerHTML = '';\n",
              "\n",
              "  const pickedPromise = new Promise((resolve) => {\n",
              "    inputElement.addEventListener('change', (e) => {\n",
              "      resolve(e.target.files);\n",
              "    });\n",
              "  });\n",
              "\n",
              "  const cancel = document.createElement('button');\n",
              "  inputElement.parentElement.appendChild(cancel);\n",
              "  cancel.textContent = 'Cancel upload';\n",
              "  const cancelPromise = new Promise((resolve) => {\n",
              "    cancel.onclick = () => {\n",
              "      resolve(null);\n",
              "    };\n",
              "  });\n",
              "\n",
              "  // Wait for the user to pick the files.\n",
              "  const files = yield {\n",
              "    promise: Promise.race([pickedPromise, cancelPromise]),\n",
              "    response: {\n",
              "      action: 'starting',\n",
              "    }\n",
              "  };\n",
              "\n",
              "  cancel.remove();\n",
              "\n",
              "  // Disable the input element since further picks are not allowed.\n",
              "  inputElement.disabled = true;\n",
              "\n",
              "  if (!files) {\n",
              "    return {\n",
              "      response: {\n",
              "        action: 'complete',\n",
              "      }\n",
              "    };\n",
              "  }\n",
              "\n",
              "  for (const file of files) {\n",
              "    const li = document.createElement('li');\n",
              "    li.append(span(file.name, {fontWeight: 'bold'}));\n",
              "    li.append(span(\n",
              "        `(${file.type || 'n/a'}) - ${file.size} bytes, ` +\n",
              "        `last modified: ${\n",
              "            file.lastModifiedDate ? file.lastModifiedDate.toLocaleDateString() :\n",
              "                                    'n/a'} - `));\n",
              "    const percent = span('0% done');\n",
              "    li.appendChild(percent);\n",
              "\n",
              "    outputElement.appendChild(li);\n",
              "\n",
              "    const fileDataPromise = new Promise((resolve) => {\n",
              "      const reader = new FileReader();\n",
              "      reader.onload = (e) => {\n",
              "        resolve(e.target.result);\n",
              "      };\n",
              "      reader.readAsArrayBuffer(file);\n",
              "    });\n",
              "    // Wait for the data to be ready.\n",
              "    let fileData = yield {\n",
              "      promise: fileDataPromise,\n",
              "      response: {\n",
              "        action: 'continue',\n",
              "      }\n",
              "    };\n",
              "\n",
              "    // Use a chunked sending to avoid message size limits. See b/62115660.\n",
              "    let position = 0;\n",
              "    do {\n",
              "      const length = Math.min(fileData.byteLength - position, MAX_PAYLOAD_SIZE);\n",
              "      const chunk = new Uint8Array(fileData, position, length);\n",
              "      position += length;\n",
              "\n",
              "      const base64 = btoa(String.fromCharCode.apply(null, chunk));\n",
              "      yield {\n",
              "        response: {\n",
              "          action: 'append',\n",
              "          file: file.name,\n",
              "          data: base64,\n",
              "        },\n",
              "      };\n",
              "\n",
              "      let percentDone = fileData.byteLength === 0 ?\n",
              "          100 :\n",
              "          Math.round((position / fileData.byteLength) * 100);\n",
              "      percent.textContent = `${percentDone}% done`;\n",
              "\n",
              "    } while (position < fileData.byteLength);\n",
              "  }\n",
              "\n",
              "  // All done.\n",
              "  yield {\n",
              "    response: {\n",
              "      action: 'complete',\n",
              "    }\n",
              "  };\n",
              "}\n",
              "\n",
              "scope.google = scope.google || {};\n",
              "scope.google.colab = scope.google.colab || {};\n",
              "scope.google.colab._files = {\n",
              "  _uploadFiles,\n",
              "  _uploadFilesContinue,\n",
              "};\n",
              "})(self);\n",
              "</script> "
            ]
          },
          "metadata": {}
        },
        {
          "output_type": "error",
          "ename": "KeyboardInterrupt",
          "evalue": "ignored",
          "traceback": [
            "\u001b[0;31m---------------------------------------------------------------------------\u001b[0m",
            "\u001b[0;31mKeyboardInterrupt\u001b[0m                         Traceback (most recent call last)",
            "\u001b[0;32m<ipython-input-2-88fc1e276380>\u001b[0m in \u001b[0;36m<module>\u001b[0;34m\u001b[0m\n\u001b[1;32m      3\u001b[0m     \u001b[0mprint\u001b[0m\u001b[0;34m(\u001b[0m\u001b[0;34m\"Upload your file, then read it with pd.read_csv()\"\u001b[0m\u001b[0;34m)\u001b[0m\u001b[0;34m\u001b[0m\u001b[0;34m\u001b[0m\u001b[0m\n\u001b[1;32m      4\u001b[0m     \u001b[0;32mfrom\u001b[0m \u001b[0mgoogle\u001b[0m\u001b[0;34m.\u001b[0m\u001b[0mcolab\u001b[0m \u001b[0;32mimport\u001b[0m \u001b[0mfiles\u001b[0m\u001b[0;34m\u001b[0m\u001b[0;34m\u001b[0m\u001b[0m\n\u001b[0;32m----> 5\u001b[0;31m     \u001b[0muploaded\u001b[0m \u001b[0;34m=\u001b[0m \u001b[0mfiles\u001b[0m\u001b[0;34m.\u001b[0m\u001b[0mupload\u001b[0m\u001b[0;34m(\u001b[0m\u001b[0;34m)\u001b[0m\u001b[0;34m\u001b[0m\u001b[0;34m\u001b[0m\u001b[0m\n\u001b[0m\u001b[1;32m      6\u001b[0m     \u001b[0mfn\u001b[0m \u001b[0;34m=\u001b[0m \u001b[0mlist\u001b[0m\u001b[0;34m(\u001b[0m\u001b[0muploaded\u001b[0m\u001b[0;34m.\u001b[0m\u001b[0mkeys\u001b[0m\u001b[0;34m(\u001b[0m\u001b[0;34m)\u001b[0m\u001b[0;34m)\u001b[0m\u001b[0;34m[\u001b[0m\u001b[0;36m0\u001b[0m\u001b[0;34m]\u001b[0m\u001b[0;34m\u001b[0m\u001b[0;34m\u001b[0m\u001b[0m\n\u001b[1;32m      7\u001b[0m     \u001b[0mprint\u001b[0m\u001b[0;34m(\u001b[0m\u001b[0;34m\"File is uploaded to \"\u001b[0m\u001b[0;34m,\u001b[0m \u001b[0mfn\u001b[0m\u001b[0;34m)\u001b[0m\u001b[0;34m\u001b[0m\u001b[0;34m\u001b[0m\u001b[0m\n",
            "\u001b[0;32m/usr/local/lib/python3.8/dist-packages/google/colab/files.py\u001b[0m in \u001b[0;36mupload\u001b[0;34m()\u001b[0m\n\u001b[1;32m     65\u001b[0m   \"\"\"\n\u001b[1;32m     66\u001b[0m \u001b[0;34m\u001b[0m\u001b[0m\n\u001b[0;32m---> 67\u001b[0;31m   \u001b[0muploaded_files\u001b[0m \u001b[0;34m=\u001b[0m \u001b[0m_upload_files\u001b[0m\u001b[0;34m(\u001b[0m\u001b[0mmultiple\u001b[0m\u001b[0;34m=\u001b[0m\u001b[0;32mTrue\u001b[0m\u001b[0;34m)\u001b[0m\u001b[0;34m\u001b[0m\u001b[0;34m\u001b[0m\u001b[0m\n\u001b[0m\u001b[1;32m     68\u001b[0m   \u001b[0;31m# Mapping from original filename to filename as saved locally.\u001b[0m\u001b[0;34m\u001b[0m\u001b[0;34m\u001b[0m\u001b[0;34m\u001b[0m\u001b[0m\n\u001b[1;32m     69\u001b[0m   \u001b[0mlocal_filenames\u001b[0m \u001b[0;34m=\u001b[0m \u001b[0mdict\u001b[0m\u001b[0;34m(\u001b[0m\u001b[0;34m)\u001b[0m\u001b[0;34m\u001b[0m\u001b[0;34m\u001b[0m\u001b[0m\n",
            "\u001b[0;32m/usr/local/lib/python3.8/dist-packages/google/colab/files.py\u001b[0m in \u001b[0;36m_upload_files\u001b[0;34m(multiple)\u001b[0m\n\u001b[1;32m    142\u001b[0m \u001b[0;34m\u001b[0m\u001b[0m\n\u001b[1;32m    143\u001b[0m   \u001b[0;31m# First result is always an indication that the file picker has completed.\u001b[0m\u001b[0;34m\u001b[0m\u001b[0;34m\u001b[0m\u001b[0;34m\u001b[0m\u001b[0m\n\u001b[0;32m--> 144\u001b[0;31m   result = _output.eval_js(\n\u001b[0m\u001b[1;32m    145\u001b[0m       'google.colab._files._uploadFiles(\"{input_id}\", \"{output_id}\")'.format(\n\u001b[1;32m    146\u001b[0m           input_id=input_id, output_id=output_id))\n",
            "\u001b[0;32m/usr/local/lib/python3.8/dist-packages/google/colab/output/_js.py\u001b[0m in \u001b[0;36meval_js\u001b[0;34m(script, ignore_result, timeout_sec)\u001b[0m\n\u001b[1;32m     38\u001b[0m   \u001b[0;32mif\u001b[0m \u001b[0mignore_result\u001b[0m\u001b[0;34m:\u001b[0m\u001b[0;34m\u001b[0m\u001b[0;34m\u001b[0m\u001b[0m\n\u001b[1;32m     39\u001b[0m     \u001b[0;32mreturn\u001b[0m\u001b[0;34m\u001b[0m\u001b[0;34m\u001b[0m\u001b[0m\n\u001b[0;32m---> 40\u001b[0;31m   \u001b[0;32mreturn\u001b[0m \u001b[0m_message\u001b[0m\u001b[0;34m.\u001b[0m\u001b[0mread_reply_from_input\u001b[0m\u001b[0;34m(\u001b[0m\u001b[0mrequest_id\u001b[0m\u001b[0;34m,\u001b[0m \u001b[0mtimeout_sec\u001b[0m\u001b[0;34m)\u001b[0m\u001b[0;34m\u001b[0m\u001b[0;34m\u001b[0m\u001b[0m\n\u001b[0m\u001b[1;32m     41\u001b[0m \u001b[0;34m\u001b[0m\u001b[0m\n\u001b[1;32m     42\u001b[0m \u001b[0;34m\u001b[0m\u001b[0m\n",
            "\u001b[0;32m/usr/local/lib/python3.8/dist-packages/google/colab/_message.py\u001b[0m in \u001b[0;36mread_reply_from_input\u001b[0;34m(message_id, timeout_sec)\u001b[0m\n\u001b[1;32m     95\u001b[0m     \u001b[0mreply\u001b[0m \u001b[0;34m=\u001b[0m \u001b[0m_read_next_input_message\u001b[0m\u001b[0;34m(\u001b[0m\u001b[0;34m)\u001b[0m\u001b[0;34m\u001b[0m\u001b[0;34m\u001b[0m\u001b[0m\n\u001b[1;32m     96\u001b[0m     \u001b[0;32mif\u001b[0m \u001b[0mreply\u001b[0m \u001b[0;34m==\u001b[0m \u001b[0m_NOT_READY\u001b[0m \u001b[0;32mor\u001b[0m \u001b[0;32mnot\u001b[0m \u001b[0misinstance\u001b[0m\u001b[0;34m(\u001b[0m\u001b[0mreply\u001b[0m\u001b[0;34m,\u001b[0m \u001b[0mdict\u001b[0m\u001b[0;34m)\u001b[0m\u001b[0;34m:\u001b[0m\u001b[0;34m\u001b[0m\u001b[0;34m\u001b[0m\u001b[0m\n\u001b[0;32m---> 97\u001b[0;31m       \u001b[0mtime\u001b[0m\u001b[0;34m.\u001b[0m\u001b[0msleep\u001b[0m\u001b[0;34m(\u001b[0m\u001b[0;36m0.025\u001b[0m\u001b[0;34m)\u001b[0m\u001b[0;34m\u001b[0m\u001b[0;34m\u001b[0m\u001b[0m\n\u001b[0m\u001b[1;32m     98\u001b[0m       \u001b[0;32mcontinue\u001b[0m\u001b[0;34m\u001b[0m\u001b[0;34m\u001b[0m\u001b[0m\n\u001b[1;32m     99\u001b[0m     if (reply.get('type') == 'colab_reply' and\n",
            "\u001b[0;31mKeyboardInterrupt\u001b[0m: "
          ]
        }
      ],
      "source": [
        "COLAB_P = True\n",
        "if COLAB_P:\n",
        "    print(\"Upload your file, then read it with pd.read_csv()\")\n",
        "    from google.colab import files\n",
        "    uploaded = files.upload()\n",
        "    fn = list(uploaded.keys())[0]\n",
        "    print(\"File is uploaded to \", fn)\n",
        "else:\n",
        "    print(\"Place your file to the same directory as the notebook, then read your file with pd.read_csv()\")"
      ]
    },
    {
      "cell_type": "code",
      "execution_count": null,
      "metadata": {
        "id": "IMsqdgKrYugR"
      },
      "outputs": [],
      "source": [
        "# Load the data\n",
        "df = pd.read_csv(\"Metro_Interstate_Traffic_Volume.csv\")\n",
        "pd.options.display.max_columns = 30"
      ]
    },
    {
      "cell_type": "code",
      "execution_count": null,
      "metadata": {
        "colab": {
          "base_uri": "https://localhost:8080/",
          "height": 363
        },
        "id": "H0P12NdQZPxw",
        "outputId": "0d53d4db-9b5f-4cc1-870d-3de61fb019d7"
      },
      "outputs": [
        {
          "output_type": "execute_result",
          "data": {
            "text/plain": [
              "  holiday    temp  rain_1h  snow_1h  clouds_all weather_main  \\\n",
              "0    None  288.28      0.0      0.0        40.0       Clouds   \n",
              "1    None  289.36      0.0      0.0        75.0       Clouds   \n",
              "2    None  289.58      0.0      0.0        90.0       Clouds   \n",
              "3    None  290.13      0.0      0.0        90.0       Clouds   \n",
              "4    None  291.14      0.0      0.0        75.0       Clouds   \n",
              "5    None  291.72      0.0      0.0         1.0        Clear   \n",
              "6    None  293.17      0.0      0.0         1.0        Clear   \n",
              "7    None  293.86      0.0      0.0         1.0        Clear   \n",
              "8    None  294.14      0.0      0.0        20.0       Clouds   \n",
              "9    None  293.10      0.0      0.0        20.0       Clouds   \n",
              "\n",
              "  weather_description            date_time  traffic_volume  \n",
              "0    scattered clouds  2012-10-02 09:00:00          5545.0  \n",
              "1       broken clouds  2012-10-02 10:00:00          4516.0  \n",
              "2     overcast clouds  2012-10-02 11:00:00          4767.0  \n",
              "3     overcast clouds  2012-10-02 12:00:00          5026.0  \n",
              "4       broken clouds  2012-10-02 13:00:00          4918.0  \n",
              "5        sky is clear  2012-10-02 14:00:00          5181.0  \n",
              "6        sky is clear  2012-10-02 15:00:00          5584.0  \n",
              "7        sky is clear  2012-10-02 16:00:00          6015.0  \n",
              "8          few clouds  2012-10-02 17:00:00          5791.0  \n",
              "9          few clouds  2012-10-02 18:00:00          4770.0  "
            ],
            "text/html": [
              "\n",
              "  <div id=\"df-c0c87fcb-988e-4ee4-a0fa-09dd3ae1cdcd\">\n",
              "    <div class=\"colab-df-container\">\n",
              "      <div>\n",
              "<style scoped>\n",
              "    .dataframe tbody tr th:only-of-type {\n",
              "        vertical-align: middle;\n",
              "    }\n",
              "\n",
              "    .dataframe tbody tr th {\n",
              "        vertical-align: top;\n",
              "    }\n",
              "\n",
              "    .dataframe thead th {\n",
              "        text-align: right;\n",
              "    }\n",
              "</style>\n",
              "<table border=\"1\" class=\"dataframe\">\n",
              "  <thead>\n",
              "    <tr style=\"text-align: right;\">\n",
              "      <th></th>\n",
              "      <th>holiday</th>\n",
              "      <th>temp</th>\n",
              "      <th>rain_1h</th>\n",
              "      <th>snow_1h</th>\n",
              "      <th>clouds_all</th>\n",
              "      <th>weather_main</th>\n",
              "      <th>weather_description</th>\n",
              "      <th>date_time</th>\n",
              "      <th>traffic_volume</th>\n",
              "    </tr>\n",
              "  </thead>\n",
              "  <tbody>\n",
              "    <tr>\n",
              "      <th>0</th>\n",
              "      <td>None</td>\n",
              "      <td>288.28</td>\n",
              "      <td>0.0</td>\n",
              "      <td>0.0</td>\n",
              "      <td>40.0</td>\n",
              "      <td>Clouds</td>\n",
              "      <td>scattered clouds</td>\n",
              "      <td>2012-10-02 09:00:00</td>\n",
              "      <td>5545.0</td>\n",
              "    </tr>\n",
              "    <tr>\n",
              "      <th>1</th>\n",
              "      <td>None</td>\n",
              "      <td>289.36</td>\n",
              "      <td>0.0</td>\n",
              "      <td>0.0</td>\n",
              "      <td>75.0</td>\n",
              "      <td>Clouds</td>\n",
              "      <td>broken clouds</td>\n",
              "      <td>2012-10-02 10:00:00</td>\n",
              "      <td>4516.0</td>\n",
              "    </tr>\n",
              "    <tr>\n",
              "      <th>2</th>\n",
              "      <td>None</td>\n",
              "      <td>289.58</td>\n",
              "      <td>0.0</td>\n",
              "      <td>0.0</td>\n",
              "      <td>90.0</td>\n",
              "      <td>Clouds</td>\n",
              "      <td>overcast clouds</td>\n",
              "      <td>2012-10-02 11:00:00</td>\n",
              "      <td>4767.0</td>\n",
              "    </tr>\n",
              "    <tr>\n",
              "      <th>3</th>\n",
              "      <td>None</td>\n",
              "      <td>290.13</td>\n",
              "      <td>0.0</td>\n",
              "      <td>0.0</td>\n",
              "      <td>90.0</td>\n",
              "      <td>Clouds</td>\n",
              "      <td>overcast clouds</td>\n",
              "      <td>2012-10-02 12:00:00</td>\n",
              "      <td>5026.0</td>\n",
              "    </tr>\n",
              "    <tr>\n",
              "      <th>4</th>\n",
              "      <td>None</td>\n",
              "      <td>291.14</td>\n",
              "      <td>0.0</td>\n",
              "      <td>0.0</td>\n",
              "      <td>75.0</td>\n",
              "      <td>Clouds</td>\n",
              "      <td>broken clouds</td>\n",
              "      <td>2012-10-02 13:00:00</td>\n",
              "      <td>4918.0</td>\n",
              "    </tr>\n",
              "    <tr>\n",
              "      <th>5</th>\n",
              "      <td>None</td>\n",
              "      <td>291.72</td>\n",
              "      <td>0.0</td>\n",
              "      <td>0.0</td>\n",
              "      <td>1.0</td>\n",
              "      <td>Clear</td>\n",
              "      <td>sky is clear</td>\n",
              "      <td>2012-10-02 14:00:00</td>\n",
              "      <td>5181.0</td>\n",
              "    </tr>\n",
              "    <tr>\n",
              "      <th>6</th>\n",
              "      <td>None</td>\n",
              "      <td>293.17</td>\n",
              "      <td>0.0</td>\n",
              "      <td>0.0</td>\n",
              "      <td>1.0</td>\n",
              "      <td>Clear</td>\n",
              "      <td>sky is clear</td>\n",
              "      <td>2012-10-02 15:00:00</td>\n",
              "      <td>5584.0</td>\n",
              "    </tr>\n",
              "    <tr>\n",
              "      <th>7</th>\n",
              "      <td>None</td>\n",
              "      <td>293.86</td>\n",
              "      <td>0.0</td>\n",
              "      <td>0.0</td>\n",
              "      <td>1.0</td>\n",
              "      <td>Clear</td>\n",
              "      <td>sky is clear</td>\n",
              "      <td>2012-10-02 16:00:00</td>\n",
              "      <td>6015.0</td>\n",
              "    </tr>\n",
              "    <tr>\n",
              "      <th>8</th>\n",
              "      <td>None</td>\n",
              "      <td>294.14</td>\n",
              "      <td>0.0</td>\n",
              "      <td>0.0</td>\n",
              "      <td>20.0</td>\n",
              "      <td>Clouds</td>\n",
              "      <td>few clouds</td>\n",
              "      <td>2012-10-02 17:00:00</td>\n",
              "      <td>5791.0</td>\n",
              "    </tr>\n",
              "    <tr>\n",
              "      <th>9</th>\n",
              "      <td>None</td>\n",
              "      <td>293.10</td>\n",
              "      <td>0.0</td>\n",
              "      <td>0.0</td>\n",
              "      <td>20.0</td>\n",
              "      <td>Clouds</td>\n",
              "      <td>few clouds</td>\n",
              "      <td>2012-10-02 18:00:00</td>\n",
              "      <td>4770.0</td>\n",
              "    </tr>\n",
              "  </tbody>\n",
              "</table>\n",
              "</div>\n",
              "      <button class=\"colab-df-convert\" onclick=\"convertToInteractive('df-c0c87fcb-988e-4ee4-a0fa-09dd3ae1cdcd')\"\n",
              "              title=\"Convert this dataframe to an interactive table.\"\n",
              "              style=\"display:none;\">\n",
              "        \n",
              "  <svg xmlns=\"http://www.w3.org/2000/svg\" height=\"24px\"viewBox=\"0 0 24 24\"\n",
              "       width=\"24px\">\n",
              "    <path d=\"M0 0h24v24H0V0z\" fill=\"none\"/>\n",
              "    <path d=\"M18.56 5.44l.94 2.06.94-2.06 2.06-.94-2.06-.94-.94-2.06-.94 2.06-2.06.94zm-11 1L8.5 8.5l.94-2.06 2.06-.94-2.06-.94L8.5 2.5l-.94 2.06-2.06.94zm10 10l.94 2.06.94-2.06 2.06-.94-2.06-.94-.94-2.06-.94 2.06-2.06.94z\"/><path d=\"M17.41 7.96l-1.37-1.37c-.4-.4-.92-.59-1.43-.59-.52 0-1.04.2-1.43.59L10.3 9.45l-7.72 7.72c-.78.78-.78 2.05 0 2.83L4 21.41c.39.39.9.59 1.41.59.51 0 1.02-.2 1.41-.59l7.78-7.78 2.81-2.81c.8-.78.8-2.07 0-2.86zM5.41 20L4 18.59l7.72-7.72 1.47 1.35L5.41 20z\"/>\n",
              "  </svg>\n",
              "      </button>\n",
              "      \n",
              "  <style>\n",
              "    .colab-df-container {\n",
              "      display:flex;\n",
              "      flex-wrap:wrap;\n",
              "      gap: 12px;\n",
              "    }\n",
              "\n",
              "    .colab-df-convert {\n",
              "      background-color: #E8F0FE;\n",
              "      border: none;\n",
              "      border-radius: 50%;\n",
              "      cursor: pointer;\n",
              "      display: none;\n",
              "      fill: #1967D2;\n",
              "      height: 32px;\n",
              "      padding: 0 0 0 0;\n",
              "      width: 32px;\n",
              "    }\n",
              "\n",
              "    .colab-df-convert:hover {\n",
              "      background-color: #E2EBFA;\n",
              "      box-shadow: 0px 1px 2px rgba(60, 64, 67, 0.3), 0px 1px 3px 1px rgba(60, 64, 67, 0.15);\n",
              "      fill: #174EA6;\n",
              "    }\n",
              "\n",
              "    [theme=dark] .colab-df-convert {\n",
              "      background-color: #3B4455;\n",
              "      fill: #D2E3FC;\n",
              "    }\n",
              "\n",
              "    [theme=dark] .colab-df-convert:hover {\n",
              "      background-color: #434B5C;\n",
              "      box-shadow: 0px 1px 3px 1px rgba(0, 0, 0, 0.15);\n",
              "      filter: drop-shadow(0px 1px 2px rgba(0, 0, 0, 0.3));\n",
              "      fill: #FFFFFF;\n",
              "    }\n",
              "  </style>\n",
              "\n",
              "      <script>\n",
              "        const buttonEl =\n",
              "          document.querySelector('#df-c0c87fcb-988e-4ee4-a0fa-09dd3ae1cdcd button.colab-df-convert');\n",
              "        buttonEl.style.display =\n",
              "          google.colab.kernel.accessAllowed ? 'block' : 'none';\n",
              "\n",
              "        async function convertToInteractive(key) {\n",
              "          const element = document.querySelector('#df-c0c87fcb-988e-4ee4-a0fa-09dd3ae1cdcd');\n",
              "          const dataTable =\n",
              "            await google.colab.kernel.invokeFunction('convertToInteractive',\n",
              "                                                     [key], {});\n",
              "          if (!dataTable) return;\n",
              "\n",
              "          const docLinkHtml = 'Like what you see? Visit the ' +\n",
              "            '<a target=\"_blank\" href=https://colab.research.google.com/notebooks/data_table.ipynb>data table notebook</a>'\n",
              "            + ' to learn more about interactive tables.';\n",
              "          element.innerHTML = '';\n",
              "          dataTable['output_type'] = 'display_data';\n",
              "          await google.colab.output.renderOutput(dataTable, element);\n",
              "          const docLink = document.createElement('div');\n",
              "          docLink.innerHTML = docLinkHtml;\n",
              "          element.appendChild(docLink);\n",
              "        }\n",
              "      </script>\n",
              "    </div>\n",
              "  </div>\n",
              "  "
            ]
          },
          "metadata": {},
          "execution_count": 4
        }
      ],
      "source": [
        "# Observe top 10 observations (int)\n",
        "df.head(10)"
      ]
    },
    {
      "cell_type": "code",
      "source": [
        "!pip install matplotlib==3.6.2"
      ],
      "metadata": {
        "colab": {
          "base_uri": "https://localhost:8080/",
          "height": 520
        },
        "id": "G03imOuJoNqQ",
        "outputId": "2f71c5bb-b05a-4c11-d69d-e1b5afea2f12"
      },
      "execution_count": null,
      "outputs": [
        {
          "output_type": "stream",
          "name": "stdout",
          "text": [
            "Looking in indexes: https://pypi.org/simple, https://us-python.pkg.dev/colab-wheels/public/simple/\n",
            "Collecting matplotlib==3.6.2\n",
            "  Downloading matplotlib-3.6.2-cp38-cp38-manylinux_2_12_x86_64.manylinux2010_x86_64.whl (9.4 MB)\n",
            "\u001b[K     |████████████████████████████████| 9.4 MB 5.2 MB/s \n",
            "\u001b[?25hRequirement already satisfied: pyparsing>=2.2.1 in /usr/local/lib/python3.8/dist-packages (from matplotlib==3.6.2) (3.0.9)\n",
            "Collecting fonttools>=4.22.0\n",
            "  Downloading fonttools-4.38.0-py3-none-any.whl (965 kB)\n",
            "\u001b[K     |████████████████████████████████| 965 kB 68.4 MB/s \n",
            "\u001b[?25hRequirement already satisfied: numpy>=1.19 in /usr/local/lib/python3.8/dist-packages (from matplotlib==3.6.2) (1.21.6)\n",
            "Requirement already satisfied: python-dateutil>=2.7 in /usr/local/lib/python3.8/dist-packages (from matplotlib==3.6.2) (2.8.2)\n",
            "Requirement already satisfied: pillow>=6.2.0 in /usr/local/lib/python3.8/dist-packages (from matplotlib==3.6.2) (7.1.2)\n",
            "Collecting contourpy>=1.0.1\n",
            "  Downloading contourpy-1.0.6-cp38-cp38-manylinux_2_17_x86_64.manylinux2014_x86_64.whl (295 kB)\n",
            "\u001b[K     |████████████████████████████████| 295 kB 46.4 MB/s \n",
            "\u001b[?25hRequirement already satisfied: kiwisolver>=1.0.1 in /usr/local/lib/python3.8/dist-packages (from matplotlib==3.6.2) (1.4.4)\n",
            "Requirement already satisfied: packaging>=20.0 in /usr/local/lib/python3.8/dist-packages (from matplotlib==3.6.2) (21.3)\n",
            "Requirement already satisfied: cycler>=0.10 in /usr/local/lib/python3.8/dist-packages (from matplotlib==3.6.2) (0.11.0)\n",
            "Requirement already satisfied: six>=1.5 in /usr/local/lib/python3.8/dist-packages (from python-dateutil>=2.7->matplotlib==3.6.2) (1.15.0)\n",
            "Installing collected packages: fonttools, contourpy, matplotlib\n",
            "  Attempting uninstall: matplotlib\n",
            "    Found existing installation: matplotlib 3.1.3\n",
            "    Uninstalling matplotlib-3.1.3:\n",
            "      Successfully uninstalled matplotlib-3.1.3\n",
            "Successfully installed contourpy-1.0.6 fonttools-4.38.0 matplotlib-3.6.2\n"
          ]
        },
        {
          "output_type": "display_data",
          "data": {
            "application/vnd.colab-display-data+json": {
              "pip_warning": {
                "packages": [
                  "matplotlib",
                  "mpl_toolkits"
                ]
              }
            }
          },
          "metadata": {}
        }
      ]
    },
    {
      "cell_type": "code",
      "source": [
        "import matplotlib.pyplot as plt\n",
        "\n",
        "x = df[\"temp\"][:100]\n",
        "y = df[\"traffic_volume\"][:100]\n",
        "\n",
        "plt.scatter(x, y, alpha=1)\n",
        "plt.show()\n",
        "\n",
        "import seaborn as sns\n",
        "\n",
        "#create scatterplot with regression line\n",
        "sns.regplot(x, y, ci=None, scatter_kws={\"color\": \"orange\"}, line_kws={\"color\": \"black\"})"
      ],
      "metadata": {
        "colab": {
          "base_uri": "https://localhost:8080/",
          "height": 599
        },
        "id": "nanVXhCAhqZx",
        "outputId": "aa10e380-7f19-43a8-eabb-10a8b0cd5858"
      },
      "execution_count": null,
      "outputs": [
        {
          "output_type": "display_data",
          "data": {
            "text/plain": [
              "<Figure size 432x288 with 1 Axes>"
            ],
            "image/png": "[encoded data removed]"
          },
          "metadata": {
            "needs_background": "light"
          }
        },
        {
          "output_type": "stream",
          "name": "stderr",
          "text": [
            "/usr/local/lib/python3.8/dist-packages/seaborn/_decorators.py:36: FutureWarning: Pass the following variables as keyword args: x, y. From version 0.12, the only valid positional argument will be `data`, and passing other arguments without an explicit keyword will result in an error or misinterpretation.\n",
            "  warnings.warn(\n"
          ]
        },
        {
          "output_type": "execute_result",
          "data": {
            "text/plain": [
              "<matplotlib.axes._subplots.AxesSubplot at 0x7fc78b0dbaf0>"
            ]
          },
          "metadata": {},
          "execution_count": 11
        },
        {
          "output_type": "display_data",
          "data": {
            "text/plain": [
              "<Figure size 432x288 with 1 Axes>"
            ],
            "image/png": "[encoded data removed]"
          },
          "metadata": {
            "needs_background": "light"
          }
        }
      ]
    },
    {
      "cell_type": "code",
      "source": [
        "x = df[\"clouds_all\"][:100]\n",
        "y = df[\"traffic_volume\"][:100]\n",
        "\n",
        "plt.scatter(x, y, alpha=1, color = \"orange\")\n",
        "plt.show()\n",
        "\n",
        "sns.regplot(x, y, ci=None, scatter_kws={\"color\": \"blue\"}, line_kws={\"color\": \"black\"})"
      ],
      "metadata": {
        "colab": {
          "base_uri": "https://localhost:8080/",
          "height": 600
        },
        "id": "AUIcsQgrjBF9",
        "outputId": "7969a525-8bfe-4d9e-82ac-f96df42a08fb"
      },
      "execution_count": null,
      "outputs": [
        {
          "output_type": "display_data",
          "data": {
            "text/plain": [
              "<Figure size 432x288 with 1 Axes>"
            ],
            "image/png": "[encoded data removed]"
          },
          "metadata": {
            "needs_background": "light"
          }
        },
        {
          "output_type": "stream",
          "name": "stderr",
          "text": [
            "/usr/local/lib/python3.8/dist-packages/seaborn/_decorators.py:36: FutureWarning: Pass the following variables as keyword args: x, y. From version 0.12, the only valid positional argument will be `data`, and passing other arguments without an explicit keyword will result in an error or misinterpretation.\n",
            "  warnings.warn(\n"
          ]
        },
        {
          "output_type": "execute_result",
          "data": {
            "text/plain": [
              "<matplotlib.axes._subplots.AxesSubplot at 0x7fc78af518e0>"
            ]
          },
          "metadata": {},
          "execution_count": 13
        },
        {
          "output_type": "display_data",
          "data": {
            "text/plain": [
              "<Figure size 432x288 with 1 Axes>"
            ],
            "image/png": "[encoded data removed]"
          },
          "metadata": {
            "needs_background": "light"
          }
        }
      ]
    },
    {
      "cell_type": "code",
      "execution_count": null,
      "metadata": {
        "colab": {
          "base_uri": "https://localhost:8080/",
          "height": 363
        },
        "id": "MXEj8wifdVjV",
        "outputId": "2f1c8610-7e89-4aa1-a098-addad9cb94f8"
      },
      "outputs": [
        {
          "output_type": "execute_result",
          "data": {
            "text/plain": [
              "      holiday    temp  rain_1h  snow_1h  clouds_all  weather_main  \\\n",
              "48194    None  283.84     0.00      0.0        75.0          Rain   \n",
              "48195    None  283.84     0.00      0.0        75.0       Drizzle   \n",
              "48196    None  284.38     0.00      0.0        75.0          Rain   \n",
              "48197    None  284.79     0.00      0.0        75.0        Clouds   \n",
              "48198    None  284.20     0.25      0.0        75.0          Rain   \n",
              "48199    None  283.45     0.00      0.0        75.0        Clouds   \n",
              "48200    None  282.76     0.00      0.0        90.0        Clouds   \n",
              "48201    None  282.73     0.00      0.0        90.0  Thunderstorm   \n",
              "48202    None  282.09     0.00      0.0        90.0        Clouds   \n",
              "48203    None  282.12     0.00      0.0        90.0        Clouds   \n",
              "\n",
              "           weather_description            date_time  traffic_volume  \n",
              "48194    proximity shower rain  2018-09-30 15:00:00          4302.0  \n",
              "48195  light intensity drizzle  2018-09-30 15:00:00          4302.0  \n",
              "48196               light rain  2018-09-30 16:00:00          4283.0  \n",
              "48197            broken clouds  2018-09-30 17:00:00          4132.0  \n",
              "48198               light rain  2018-09-30 18:00:00          3947.0  \n",
              "48199            broken clouds  2018-09-30 19:00:00          3543.0  \n",
              "48200          overcast clouds  2018-09-30 20:00:00          2781.0  \n",
              "48201   proximity thunderstorm  2018-09-30 21:00:00          2159.0  \n",
              "48202          overcast clouds  2018-09-30 22:00:00          1450.0  \n",
              "48203          overcast clouds  2018-09-30 23:00:00           954.0  "
            ],
            "text/html": [
              "\n",
              "  <div id=\"df-80d5ea0f-ae5a-4413-894e-e8cdf5b06405\">\n",
              "    <div class=\"colab-df-container\">\n",
              "      <div>\n",
              "<style scoped>\n",
              "    .dataframe tbody tr th:only-of-type {\n",
              "        vertical-align: middle;\n",
              "    }\n",
              "\n",
              "    .dataframe tbody tr th {\n",
              "        vertical-align: top;\n",
              "    }\n",
              "\n",
              "    .dataframe thead th {\n",
              "        text-align: right;\n",
              "    }\n",
              "</style>\n",
              "<table border=\"1\" class=\"dataframe\">\n",
              "  <thead>\n",
              "    <tr style=\"text-align: right;\">\n",
              "      <th></th>\n",
              "      <th>holiday</th>\n",
              "      <th>temp</th>\n",
              "      <th>rain_1h</th>\n",
              "      <th>snow_1h</th>\n",
              "      <th>clouds_all</th>\n",
              "      <th>weather_main</th>\n",
              "      <th>weather_description</th>\n",
              "      <th>date_time</th>\n",
              "      <th>traffic_volume</th>\n",
              "    </tr>\n",
              "  </thead>\n",
              "  <tbody>\n",
              "    <tr>\n",
              "      <th>48194</th>\n",
              "      <td>None</td>\n",
              "      <td>283.84</td>\n",
              "      <td>0.00</td>\n",
              "      <td>0.0</td>\n",
              "      <td>75.0</td>\n",
              "      <td>Rain</td>\n",
              "      <td>proximity shower rain</td>\n",
              "      <td>2018-09-30 15:00:00</td>\n",
              "      <td>4302.0</td>\n",
              "    </tr>\n",
              "    <tr>\n",
              "      <th>48195</th>\n",
              "      <td>None</td>\n",
              "      <td>283.84</td>\n",
              "      <td>0.00</td>\n",
              "      <td>0.0</td>\n",
              "      <td>75.0</td>\n",
              "      <td>Drizzle</td>\n",
              "      <td>light intensity drizzle</td>\n",
              "      <td>2018-09-30 15:00:00</td>\n",
              "      <td>4302.0</td>\n",
              "    </tr>\n",
              "    <tr>\n",
              "      <th>48196</th>\n",
              "      <td>None</td>\n",
              "      <td>284.38</td>\n",
              "      <td>0.00</td>\n",
              "      <td>0.0</td>\n",
              "      <td>75.0</td>\n",
              "      <td>Rain</td>\n",
              "      <td>light rain</td>\n",
              "      <td>2018-09-30 16:00:00</td>\n",
              "      <td>4283.0</td>\n",
              "    </tr>\n",
              "    <tr>\n",
              "      <th>48197</th>\n",
              "      <td>None</td>\n",
              "      <td>284.79</td>\n",
              "      <td>0.00</td>\n",
              "      <td>0.0</td>\n",
              "      <td>75.0</td>\n",
              "      <td>Clouds</td>\n",
              "      <td>broken clouds</td>\n",
              "      <td>2018-09-30 17:00:00</td>\n",
              "      <td>4132.0</td>\n",
              "    </tr>\n",
              "    <tr>\n",
              "      <th>48198</th>\n",
              "      <td>None</td>\n",
              "      <td>284.20</td>\n",
              "      <td>0.25</td>\n",
              "      <td>0.0</td>\n",
              "      <td>75.0</td>\n",
              "      <td>Rain</td>\n",
              "      <td>light rain</td>\n",
              "      <td>2018-09-30 18:00:00</td>\n",
              "      <td>3947.0</td>\n",
              "    </tr>\n",
              "    <tr>\n",
              "      <th>48199</th>\n",
              "      <td>None</td>\n",
              "      <td>283.45</td>\n",
              "      <td>0.00</td>\n",
              "      <td>0.0</td>\n",
              "      <td>75.0</td>\n",
              "      <td>Clouds</td>\n",
              "      <td>broken clouds</td>\n",
              "      <td>2018-09-30 19:00:00</td>\n",
              "      <td>3543.0</td>\n",
              "    </tr>\n",
              "    <tr>\n",
              "      <th>48200</th>\n",
              "      <td>None</td>\n",
              "      <td>282.76</td>\n",
              "      <td>0.00</td>\n",
              "      <td>0.0</td>\n",
              "      <td>90.0</td>\n",
              "      <td>Clouds</td>\n",
              "      <td>overcast clouds</td>\n",
              "      <td>2018-09-30 20:00:00</td>\n",
              "      <td>2781.0</td>\n",
              "    </tr>\n",
              "    <tr>\n",
              "      <th>48201</th>\n",
              "      <td>None</td>\n",
              "      <td>282.73</td>\n",
              "      <td>0.00</td>\n",
              "      <td>0.0</td>\n",
              "      <td>90.0</td>\n",
              "      <td>Thunderstorm</td>\n",
              "      <td>proximity thunderstorm</td>\n",
              "      <td>2018-09-30 21:00:00</td>\n",
              "      <td>2159.0</td>\n",
              "    </tr>\n",
              "    <tr>\n",
              "      <th>48202</th>\n",
              "      <td>None</td>\n",
              "      <td>282.09</td>\n",
              "      <td>0.00</td>\n",
              "      <td>0.0</td>\n",
              "      <td>90.0</td>\n",
              "      <td>Clouds</td>\n",
              "      <td>overcast clouds</td>\n",
              "      <td>2018-09-30 22:00:00</td>\n",
              "      <td>1450.0</td>\n",
              "    </tr>\n",
              "    <tr>\n",
              "      <th>48203</th>\n",
              "      <td>None</td>\n",
              "      <td>282.12</td>\n",
              "      <td>0.00</td>\n",
              "      <td>0.0</td>\n",
              "      <td>90.0</td>\n",
              "      <td>Clouds</td>\n",
              "      <td>overcast clouds</td>\n",
              "      <td>2018-09-30 23:00:00</td>\n",
              "      <td>954.0</td>\n",
              "    </tr>\n",
              "  </tbody>\n",
              "</table>\n",
              "</div>\n",
              "      <button class=\"colab-df-convert\" onclick=\"convertToInteractive('df-80d5ea0f-ae5a-4413-894e-e8cdf5b06405')\"\n",
              "              title=\"Convert this dataframe to an interactive table.\"\n",
              "              style=\"display:none;\">\n",
              "        \n",
              "  <svg xmlns=\"http://www.w3.org/2000/svg\" height=\"24px\"viewBox=\"0 0 24 24\"\n",
              "       width=\"24px\">\n",
              "    <path d=\"M0 0h24v24H0V0z\" fill=\"none\"/>\n",
              "    <path d=\"M18.56 5.44l.94 2.06.94-2.06 2.06-.94-2.06-.94-.94-2.06-.94 2.06-2.06.94zm-11 1L8.5 8.5l.94-2.06 2.06-.94-2.06-.94L8.5 2.5l-.94 2.06-2.06.94zm10 10l.94 2.06.94-2.06 2.06-.94-2.06-.94-.94-2.06-.94 2.06-2.06.94z\"/><path d=\"M17.41 7.96l-1.37-1.37c-.4-.4-.92-.59-1.43-.59-.52 0-1.04.2-1.43.59L10.3 9.45l-7.72 7.72c-.78.78-.78 2.05 0 2.83L4 21.41c.39.39.9.59 1.41.59.51 0 1.02-.2 1.41-.59l7.78-7.78 2.81-2.81c.8-.78.8-2.07 0-2.86zM5.41 20L4 18.59l7.72-7.72 1.47 1.35L5.41 20z\"/>\n",
              "  </svg>\n",
              "      </button>\n",
              "      \n",
              "  <style>\n",
              "    .colab-df-container {\n",
              "      display:flex;\n",
              "      flex-wrap:wrap;\n",
              "      gap: 12px;\n",
              "    }\n",
              "\n",
              "    .colab-df-convert {\n",
              "      background-color: #E8F0FE;\n",
              "      border: none;\n",
              "      border-radius: 50%;\n",
              "      cursor: pointer;\n",
              "      display: none;\n",
              "      fill: #1967D2;\n",
              "      height: 32px;\n",
              "      padding: 0 0 0 0;\n",
              "      width: 32px;\n",
              "    }\n",
              "\n",
              "    .colab-df-convert:hover {\n",
              "      background-color: #E2EBFA;\n",
              "      box-shadow: 0px 1px 2px rgba(60, 64, 67, 0.3), 0px 1px 3px 1px rgba(60, 64, 67, 0.15);\n",
              "      fill: #174EA6;\n",
              "    }\n",
              "\n",
              "    [theme=dark] .colab-df-convert {\n",
              "      background-color: #3B4455;\n",
              "      fill: #D2E3FC;\n",
              "    }\n",
              "\n",
              "    [theme=dark] .colab-df-convert:hover {\n",
              "      background-color: #434B5C;\n",
              "      box-shadow: 0px 1px 3px 1px rgba(0, 0, 0, 0.15);\n",
              "      filter: drop-shadow(0px 1px 2px rgba(0, 0, 0, 0.3));\n",
              "      fill: #FFFFFF;\n",
              "    }\n",
              "  </style>\n",
              "\n",
              "      <script>\n",
              "        const buttonEl =\n",
              "          document.querySelector('#df-80d5ea0f-ae5a-4413-894e-e8cdf5b06405 button.colab-df-convert');\n",
              "        buttonEl.style.display =\n",
              "          google.colab.kernel.accessAllowed ? 'block' : 'none';\n",
              "\n",
              "        async function convertToInteractive(key) {\n",
              "          const element = document.querySelector('#df-80d5ea0f-ae5a-4413-894e-e8cdf5b06405');\n",
              "          const dataTable =\n",
              "            await google.colab.kernel.invokeFunction('convertToInteractive',\n",
              "                                                     [key], {});\n",
              "          if (!dataTable) return;\n",
              "\n",
              "          const docLinkHtml = 'Like what you see? Visit the ' +\n",
              "            '<a target=\"_blank\" href=https://colab.research.google.com/notebooks/data_table.ipynb>data table notebook</a>'\n",
              "            + ' to learn more about interactive tables.';\n",
              "          element.innerHTML = '';\n",
              "          dataTable['output_type'] = 'display_data';\n",
              "          await google.colab.output.renderOutput(dataTable, element);\n",
              "          const docLink = document.createElement('div');\n",
              "          docLink.innerHTML = docLinkHtml;\n",
              "          element.appendChild(docLink);\n",
              "        }\n",
              "      </script>\n",
              "    </div>\n",
              "  </div>\n",
              "  "
            ]
          },
          "metadata": {},
          "execution_count": 4
        }
      ],
      "source": [
        "# Observe last 10 observations (int)\n",
        "df.tail(10)"
      ]
    },
    {
      "cell_type": "code",
      "execution_count": null,
      "metadata": {
        "colab": {
          "base_uri": "https://localhost:8080/"
        },
        "id": "Zui3i6ZOdo2D",
        "outputId": "13483b2f-c1af-4a3f-8b16-15674dd57e31"
      },
      "outputs": [
        {
          "output_type": "execute_result",
          "data": {
            "text/plain": [
              "Index(['holiday', 'temp', 'rain_1h', 'snow_1h', 'clouds_all', 'weather_main',\n",
              "       'weather_description', 'date_time', 'traffic_volume'],\n",
              "      dtype='object')"
            ]
          },
          "metadata": {},
          "execution_count": 5
        }
      ],
      "source": [
        "# Print all the columns/features names (int)\n",
        "df.columns"
      ]
    },
    {
      "cell_type": "code",
      "execution_count": null,
      "metadata": {
        "colab": {
          "base_uri": "https://localhost:8080/"
        },
        "id": "QwPaHlDhuklP",
        "outputId": "b99cfd95-4efd-401c-c395-5dc5dfc29ffa"
      },
      "outputs": [
        {
          "output_type": "stream",
          "name": "stdout",
          "text": [
            "3\n",
            "0\n",
            "['weather_main', 'weather_description']\n",
            "['weather_main', 'weather_description']\n"
          ]
        }
      ],
      "source": [
        "# Q1.1 How many columns end with a vowel?\n",
        "\n",
        "print(np.count_nonzero([(x[-1].lower() in [\"a\", \"e\", \"i\", \"o\", \"u\", \"y\"]) for x in df.columns]))\n",
        "\n",
        "# Q1.2 How many columns start with a vowel?\n",
        "\n",
        "print(np.count_nonzero([(x[0].lower() in [\"a\", \"e\", \"i\", \"o\", \"u\", \"y\"]) for x in df.columns]))\n",
        "\n",
        "# Q1.3 Which columns are associated with the condition of weather?\n",
        "\n",
        "print([x for x in df.columns if (\"weather\" in x)])\n",
        "\n",
        "# Q1.4 How many columns have `th` in their names?\n",
        "\n",
        "print([x for x in df.columns if (\"th\" in x)])"
      ]
    },
    {
      "cell_type": "code",
      "execution_count": null,
      "metadata": {
        "colab": {
          "base_uri": "https://localhost:8080/"
        },
        "id": "Ka8e4hmZdqLp",
        "outputId": "58d950fb-670c-498c-c686-118963b32ddc"
      },
      "outputs": [
        {
          "output_type": "stream",
          "name": "stdout",
          "text": [
            "(48204, 9)\n",
            "48204\n",
            "9\n"
          ]
        }
      ],
      "source": [
        "# Print data size (int)\n",
        "\n",
        "print(df.shape)\n",
        "\n",
        "# Q2.1 How many observations are in the data?\n",
        "\n",
        "print(df.shape[0])\n",
        "\n",
        "# Q2.2 How many features are in the data?\n",
        "\n",
        "print(df.shape[1])"
      ]
    },
    {
      "cell_type": "markdown",
      "metadata": {
        "id": "RWqFpMWPdy3E"
      },
      "source": [
        "# 2. Basic data exploration\n",
        "\n",
        "Lets do some basics:\n",
        "\n",
        "`.count()` number of not NaN's in every column.\n",
        "    \n",
        "Is there any missing values in the data?     \n",
        "Count number of unique values in every column .nunique().    \n",
        "What does this tells you about the features, which are most likely categorical and which are most likely numerical?    \n",
        "Use pandas `.describe()` to display basic statistic about the data.   \n",
        "Use pandas `.value_counts()` to count number of unique values in a specific column.   \n",
        "Use pandas `.min()`, `.max()`, `.mean()`, `.std()` to display specific statistics about the data.    \n",
        "Use pandas `.dtypes` field to display data types in columns.\n",
        "Hint You could use `.sort_index()` or `.sort_values()` to sort the result of `.value_counts()`\n"
      ]
    },
    {
      "cell_type": "code",
      "execution_count": null,
      "metadata": {
        "colab": {
          "base_uri": "https://localhost:8080/"
        },
        "id": "pwlcBdvIwlfB",
        "outputId": "262ba839-cd2f-4915-9417-86d957572d1c"
      },
      "outputs": [
        {
          "output_type": "stream",
          "name": "stdout",
          "text": [
            "holiday                48204\n",
            "temp                   48203\n",
            "rain_1h                48203\n",
            "snow_1h                48204\n",
            "clouds_all             48201\n",
            "weather_main           48203\n",
            "weather_description    48201\n",
            "date_time              48204\n",
            "traffic_volume         48199\n",
            "dtype: int64\n",
            "3\n",
            "1\n",
            "1\n",
            "0\n",
            "5\n"
          ]
        }
      ],
      "source": [
        "# Display number of not NaN's in every column (int)\n",
        "\n",
        "print(df.count())\n",
        "\n",
        "# Q3.1 How many NA values are in the `clouds_all` column?\n",
        "\n",
        "print(df.shape[0] - df[\"clouds_all\"].count())\n",
        "\n",
        "# Q3.2 How many NA values are in the `temp` column?\n",
        "\n",
        "print(df.shape[0] - df[\"temp\"].count())\n",
        "\n",
        "# Q3.3 How many NA values are in the `rain_1h` column?\n",
        "\n",
        "print(df.shape[0] - df[\"rain_1h\"].count())\n",
        "\n",
        "# Q3.4 How many NA values are in the `snow_1h` column?\n",
        "\n",
        "print(df.shape[0] - df[\"snow_1h\"].count())\n",
        "\n",
        "# Q3.5 How many explicit NA values are in the `traffic_volume` column?\n",
        "\n",
        "print(df.shape[0] - df[\"traffic_volume\"].count())"
      ]
    },
    {
      "cell_type": "code",
      "execution_count": null,
      "metadata": {
        "id": "Qj-K-XyN8zLM"
      },
      "outputs": [],
      "source": [
        "# Now drop rows with NaN with `.dropna`. Remeber to either reassign your dataframe or provide `inplace=True` argument.\n",
        "\n",
        "df.dropna(inplace=True)"
      ]
    },
    {
      "cell_type": "code",
      "execution_count": null,
      "metadata": {
        "colab": {
          "base_uri": "https://localhost:8080/",
          "height": 300
        },
        "id": "bo6KibQ3x4Jw",
        "outputId": "2ac78f5f-d6f8-40d6-efbc-cf0b32fc421b"
      },
      "outputs": [
        {
          "output_type": "execute_result",
          "data": {
            "text/plain": [
              "               temp       rain_1h       snow_1h    clouds_all  traffic_volume\n",
              "count  48190.000000  48190.000000  48190.000000  48190.000000    48190.000000\n",
              "mean     281.201366      0.334356      0.000222     49.369267     3259.859079\n",
              "std       13.337406     44.795638      0.008169     39.016127     1986.972809\n",
              "min        0.000000      0.000000      0.000000      0.000000        0.000000\n",
              "25%      272.160000      0.000000      0.000000      1.000000     1192.250000\n",
              "50%      282.440000      0.000000      0.000000     64.000000     3380.000000\n",
              "75%      291.800000      0.000000      0.000000     90.000000     4933.000000\n",
              "max      310.070000   9831.300000      0.510000    100.000000     7280.000000"
            ],
            "text/html": [
              "\n",
              "  <div id=\"df-159bcaad-71ac-4e13-aa28-d2e7786d08f8\">\n",
              "    <div class=\"colab-df-container\">\n",
              "      <div>\n",
              "<style scoped>\n",
              "    .dataframe tbody tr th:only-of-type {\n",
              "        vertical-align: middle;\n",
              "    }\n",
              "\n",
              "    .dataframe tbody tr th {\n",
              "        vertical-align: top;\n",
              "    }\n",
              "\n",
              "    .dataframe thead th {\n",
              "        text-align: right;\n",
              "    }\n",
              "</style>\n",
              "<table border=\"1\" class=\"dataframe\">\n",
              "  <thead>\n",
              "    <tr style=\"text-align: right;\">\n",
              "      <th></th>\n",
              "      <th>temp</th>\n",
              "      <th>rain_1h</th>\n",
              "      <th>snow_1h</th>\n",
              "      <th>clouds_all</th>\n",
              "      <th>traffic_volume</th>\n",
              "    </tr>\n",
              "  </thead>\n",
              "  <tbody>\n",
              "    <tr>\n",
              "      <th>count</th>\n",
              "      <td>48190.000000</td>\n",
              "      <td>48190.000000</td>\n",
              "      <td>48190.000000</td>\n",
              "      <td>48190.000000</td>\n",
              "      <td>48190.000000</td>\n",
              "    </tr>\n",
              "    <tr>\n",
              "      <th>mean</th>\n",
              "      <td>281.201366</td>\n",
              "      <td>0.334356</td>\n",
              "      <td>0.000222</td>\n",
              "      <td>49.369267</td>\n",
              "      <td>3259.859079</td>\n",
              "    </tr>\n",
              "    <tr>\n",
              "      <th>std</th>\n",
              "      <td>13.337406</td>\n",
              "      <td>44.795638</td>\n",
              "      <td>0.008169</td>\n",
              "      <td>39.016127</td>\n",
              "      <td>1986.972809</td>\n",
              "    </tr>\n",
              "    <tr>\n",
              "      <th>min</th>\n",
              "      <td>0.000000</td>\n",
              "      <td>0.000000</td>\n",
              "      <td>0.000000</td>\n",
              "      <td>0.000000</td>\n",
              "      <td>0.000000</td>\n",
              "    </tr>\n",
              "    <tr>\n",
              "      <th>25%</th>\n",
              "      <td>272.160000</td>\n",
              "      <td>0.000000</td>\n",
              "      <td>0.000000</td>\n",
              "      <td>1.000000</td>\n",
              "      <td>1192.250000</td>\n",
              "    </tr>\n",
              "    <tr>\n",
              "      <th>50%</th>\n",
              "      <td>282.440000</td>\n",
              "      <td>0.000000</td>\n",
              "      <td>0.000000</td>\n",
              "      <td>64.000000</td>\n",
              "      <td>3380.000000</td>\n",
              "    </tr>\n",
              "    <tr>\n",
              "      <th>75%</th>\n",
              "      <td>291.800000</td>\n",
              "      <td>0.000000</td>\n",
              "      <td>0.000000</td>\n",
              "      <td>90.000000</td>\n",
              "      <td>4933.000000</td>\n",
              "    </tr>\n",
              "    <tr>\n",
              "      <th>max</th>\n",
              "      <td>310.070000</td>\n",
              "      <td>9831.300000</td>\n",
              "      <td>0.510000</td>\n",
              "      <td>100.000000</td>\n",
              "      <td>7280.000000</td>\n",
              "    </tr>\n",
              "  </tbody>\n",
              "</table>\n",
              "</div>\n",
              "      <button class=\"colab-df-convert\" onclick=\"convertToInteractive('df-159bcaad-71ac-4e13-aa28-d2e7786d08f8')\"\n",
              "              title=\"Convert this dataframe to an interactive table.\"\n",
              "              style=\"display:none;\">\n",
              "        \n",
              "  <svg xmlns=\"http://www.w3.org/2000/svg\" height=\"24px\"viewBox=\"0 0 24 24\"\n",
              "       width=\"24px\">\n",
              "    <path d=\"M0 0h24v24H0V0z\" fill=\"none\"/>\n",
              "    <path d=\"M18.56 5.44l.94 2.06.94-2.06 2.06-.94-2.06-.94-.94-2.06-.94 2.06-2.06.94zm-11 1L8.5 8.5l.94-2.06 2.06-.94-2.06-.94L8.5 2.5l-.94 2.06-2.06.94zm10 10l.94 2.06.94-2.06 2.06-.94-2.06-.94-.94-2.06-.94 2.06-2.06.94z\"/><path d=\"M17.41 7.96l-1.37-1.37c-.4-.4-.92-.59-1.43-.59-.52 0-1.04.2-1.43.59L10.3 9.45l-7.72 7.72c-.78.78-.78 2.05 0 2.83L4 21.41c.39.39.9.59 1.41.59.51 0 1.02-.2 1.41-.59l7.78-7.78 2.81-2.81c.8-.78.8-2.07 0-2.86zM5.41 20L4 18.59l7.72-7.72 1.47 1.35L5.41 20z\"/>\n",
              "  </svg>\n",
              "      </button>\n",
              "      \n",
              "  <style>\n",
              "    .colab-df-container {\n",
              "      display:flex;\n",
              "      flex-wrap:wrap;\n",
              "      gap: 12px;\n",
              "    }\n",
              "\n",
              "    .colab-df-convert {\n",
              "      background-color: #E8F0FE;\n",
              "      border: none;\n",
              "      border-radius: 50%;\n",
              "      cursor: pointer;\n",
              "      display: none;\n",
              "      fill: #1967D2;\n",
              "      height: 32px;\n",
              "      padding: 0 0 0 0;\n",
              "      width: 32px;\n",
              "    }\n",
              "\n",
              "    .colab-df-convert:hover {\n",
              "      background-color: #E2EBFA;\n",
              "      box-shadow: 0px 1px 2px rgba(60, 64, 67, 0.3), 0px 1px 3px 1px rgba(60, 64, 67, 0.15);\n",
              "      fill: #174EA6;\n",
              "    }\n",
              "\n",
              "    [theme=dark] .colab-df-convert {\n",
              "      background-color: #3B4455;\n",
              "      fill: #D2E3FC;\n",
              "    }\n",
              "\n",
              "    [theme=dark] .colab-df-convert:hover {\n",
              "      background-color: #434B5C;\n",
              "      box-shadow: 0px 1px 3px 1px rgba(0, 0, 0, 0.15);\n",
              "      filter: drop-shadow(0px 1px 2px rgba(0, 0, 0, 0.3));\n",
              "      fill: #FFFFFF;\n",
              "    }\n",
              "  </style>\n",
              "\n",
              "      <script>\n",
              "        const buttonEl =\n",
              "          document.querySelector('#df-159bcaad-71ac-4e13-aa28-d2e7786d08f8 button.colab-df-convert');\n",
              "        buttonEl.style.display =\n",
              "          google.colab.kernel.accessAllowed ? 'block' : 'none';\n",
              "\n",
              "        async function convertToInteractive(key) {\n",
              "          const element = document.querySelector('#df-159bcaad-71ac-4e13-aa28-d2e7786d08f8');\n",
              "          const dataTable =\n",
              "            await google.colab.kernel.invokeFunction('convertToInteractive',\n",
              "                                                     [key], {});\n",
              "          if (!dataTable) return;\n",
              "\n",
              "          const docLinkHtml = 'Like what you see? Visit the ' +\n",
              "            '<a target=\"_blank\" href=https://colab.research.google.com/notebooks/data_table.ipynb>data table notebook</a>'\n",
              "            + ' to learn more about interactive tables.';\n",
              "          element.innerHTML = '';\n",
              "          dataTable['output_type'] = 'display_data';\n",
              "          await google.colab.output.renderOutput(dataTable, element);\n",
              "          const docLink = document.createElement('div');\n",
              "          docLink.innerHTML = docLinkHtml;\n",
              "          element.appendChild(docLink);\n",
              "        }\n",
              "      </script>\n",
              "    </div>\n",
              "  </div>\n",
              "  "
            ]
          },
          "metadata": {},
          "execution_count": 10
        }
      ],
      "source": [
        "# Display basic data statistics using .describe()\n",
        "\n",
        "df.describe()"
      ]
    },
    {
      "cell_type": "code",
      "execution_count": null,
      "metadata": {
        "colab": {
          "base_uri": "https://localhost:8080/"
        },
        "id": "uCxMUIbnx-QD",
        "outputId": "835f0976-eca8-48c6-a765-7292754de7e5"
      },
      "outputs": [
        {
          "output_type": "stream",
          "name": "stdout",
          "text": [
            "holiday                   12\n",
            "temp                    5843\n",
            "rain_1h                  372\n",
            "snow_1h                   12\n",
            "clouds_all                60\n",
            "weather_main              11\n",
            "weather_description       38\n",
            "date_time              40562\n",
            "traffic_volume          6704\n",
            "dtype: int64\n",
            "60\n",
            "11\n",
            "38\n",
            "12\n",
            "372\n"
          ]
        }
      ],
      "source": [
        "# Count number of unique values in every column (int)\n",
        "\n",
        "print(df.nunique())\n",
        "\n",
        "# Q4.1 How many unique values are in the `clouds_all` column?\n",
        "\n",
        "print(df[\"clouds_all\"].nunique())\n",
        "\n",
        "# Q4.2 How many unique values are in the `weather_main` column?\n",
        "\n",
        "print(df[\"weather_main\"].nunique())\n",
        "\n",
        "# Q4.3 How many unique values are in the `weather_description` column?\n",
        "\n",
        "print(df[\"weather_description\"].nunique())\n",
        "\n",
        "# Q4.4 How many unique values are in the `snow_1h` column?\n",
        "\n",
        "print(df[\"snow_1h\"].nunique())\n",
        "\n",
        "# Q4.5 How many unique values are in the `rain_1h` column?\n",
        "\n",
        "print(df[\"rain_1h\"].nunique())"
      ]
    },
    {
      "cell_type": "code",
      "execution_count": null,
      "metadata": {
        "colab": {
          "base_uri": "https://localhost:8080/"
        },
        "id": "fPJMcqYQyD9y",
        "outputId": "ea7ebca6-562f-420b-e512-7d80c62b2826"
      },
      "outputs": [
        {
          "output_type": "stream",
          "name": "stdout",
          "text": [
            "Clouds          15159\n",
            "Clear           13384\n",
            "Mist             5950\n",
            "Rain             5671\n",
            "Snow             2876\n",
            "Drizzle          1821\n",
            "Haze             1359\n",
            "Thunderstorm     1034\n",
            "Fog               912\n",
            "Smoke              20\n",
            "Squall              4\n",
            "Name: weather_main, dtype: int64\n",
            "sky is clear                           11658\n",
            "mist                                    5950\n",
            "overcast clouds                         5081\n",
            "broken clouds                           4665\n",
            "scattered clouds                        3458\n",
            "light rain                              3371\n",
            "few clouds                              1955\n",
            "light snow                              1946\n",
            "Sky is Clear                            1726\n",
            "moderate rain                           1664\n",
            "haze                                    1359\n",
            "light intensity drizzle                 1100\n",
            "fog                                      912\n",
            "proximity thunderstorm                   673\n",
            "drizzle                                  651\n",
            "heavy snow                               616\n",
            "heavy intensity rain                     467\n",
            "snow                                     293\n",
            "proximity shower rain                    136\n",
            "thunderstorm                             125\n",
            "heavy intensity drizzle                   64\n",
            "thunderstorm with heavy rain              63\n",
            "thunderstorm with light rain              54\n",
            "proximity thunderstorm with rain          52\n",
            "thunderstorm with rain                    37\n",
            "smoke                                     20\n",
            "very heavy rain                           18\n",
            "thunderstorm with light drizzle           15\n",
            "light intensity shower rain               13\n",
            "proximity thunderstorm with drizzle       13\n",
            "light shower snow                         11\n",
            "light rain and snow                        6\n",
            "shower drizzle                             6\n",
            "SQUALLS                                    4\n",
            "sleet                                      3\n",
            "thunderstorm with drizzle                  2\n",
            "freezing rain                              2\n",
            "shower snow                                1\n",
            "Name: weather_description, dtype: int64\n"
          ]
        }
      ],
      "source": [
        "# Count frequency of the values in different columns (list of ints in ascending order)\n",
        "# You could select a column using same syntax as for selecting a key from a dictionary: `data[colname]`\n",
        "# numpy's `unique` function can be useful for this task\n",
        "\n",
        "# Q5.1 For every unique `weather_main` value give its number of occurences.\n",
        "\n",
        "print(df[\"weather_main\"].value_counts())\n",
        "\n",
        "# Q5.2 For every unique `weather_description` value give its number of occurences.\n",
        "\n",
        "print(df[\"weather_description\"].value_counts())"
      ]
    },
    {
      "cell_type": "code",
      "execution_count": null,
      "metadata": {
        "colab": {
          "base_uri": "https://localhost:8080/"
        },
        "id": "9vIOZuv7yErp",
        "outputId": "6b771274-329c-47fc-d5d5-2747c68dc616"
      },
      "outputs": [
        {
          "output_type": "stream",
          "name": "stdout",
          "text": [
            "max: 100.000 min: 0.000 mean: 49.369 std: 39.016\n",
            "max: 310.070 min: 0.000 mean: 281.201 std: 13.337\n",
            "max: 9831.300 min: 0.000 mean: 0.334 std: 44.796\n"
          ]
        }
      ],
      "source": [
        "# Display some column statistics (list of floats, rounded up to 3 digits, e.g. 1.234)\n",
        "\n",
        "# Q6.1 What are the max, min, mean and the std of the `traffic_volume` column?\n",
        "# Q6.2 What are the max, min, mean and the std of the `clouds_all` column?\n",
        "\n",
        "print(\"max: %.3f\" % df[\"clouds_all\"].max(), \"min: %.3f\" % df[\"clouds_all\"].min(), \"mean: %.3f\" % df[\"clouds_all\"].mean(), \"std: %.3f\" % df[\"clouds_all\"].std())\n",
        "\n",
        "# Q6.3 What are the max, min, mean and the std of the `temp` column?\n",
        "\n",
        "print(\"max: %.3f\" % df[\"temp\"].max(), \"min: %.3f\" % df[\"temp\"].min(), \"mean: %.3f\" % df[\"temp\"].mean(), \"std: %.3f\" % df[\"temp\"].std())\n",
        "\n",
        "# Q6.4 What are the max, min, mean and the std of the `rain_1h` column?\n",
        "\n",
        "print(\"max: %.3f\" % df[\"rain_1h\"].max(), \"min: %.3f\" % df[\"rain_1h\"].min(), \"mean: %.3f\" % df[\"rain_1h\"].mean(), \"std: %.3f\" % df[\"rain_1h\"].std())\n",
        "\n",
        "# Q6.5 What are the max, min, mean and the std of the `snow_1h` column?"
      ]
    },
    {
      "cell_type": "code",
      "execution_count": null,
      "metadata": {
        "colab": {
          "base_uri": "https://localhost:8080/"
        },
        "id": "71Kx1GnoyG7v",
        "outputId": "20434b5b-6377-4e61-ce9b-9b5d9c2d45af"
      },
      "outputs": [
        {
          "output_type": "stream",
          "name": "stdout",
          "text": [
            "holiday                 object\n",
            "temp                   float64\n",
            "rain_1h                float64\n",
            "snow_1h                float64\n",
            "clouds_all             float64\n",
            "weather_main            object\n",
            "weather_description     object\n",
            "date_time               object\n",
            "traffic_volume         float64\n",
            "dtype: object\n",
            "4\n",
            "0\n"
          ]
        }
      ],
      "source": [
        "# Display data types of all columns (int)\n",
        "\n",
        "print(df.dtypes)\n",
        "\n",
        "# Q7.1 How many columns have `object` data type?\n",
        "\n",
        "print(np.count_nonzero(df.dtypes == \"object\"))\n",
        "\n",
        "# Q7.2 How many columns have `int64` data type?\n",
        "\n",
        "print(np.count_nonzero(df.dtypes == \"int64\"))\n",
        "\n",
        "# Q7.3 How many columns have `float64` data type?\n",
        "# Q7.4 What are the columns with dtype == `float64`?\n",
        "# Q7.5 What are the columns with dtype == `int64`?"
      ]
    },
    {
      "cell_type": "markdown",
      "metadata": {
        "id": "5rrG2dQQe5yf"
      },
      "source": [
        "# 3. Data selection\n",
        "\n",
        "In pandas.DataFrame you could select\n",
        "\n",
        "  Row/s by position (integer number [0 .. number of rows - 1]) .iloc or by DataFrame.index .loc:   \n",
        "\n",
        "```\n",
        "  data.loc[0]  \n",
        "  data.loc[5:10]  \n",
        "  data.iloc[0]  \n",
        "  data.iloc[5:10]   \n",
        "```\n",
        "\n",
        "Though, this is probably the worst way to manipulate rows.   \n",
        "  Columns by name\n",
        "\n",
        "```\n",
        "  data[columname]\n",
        "```\n",
        "\n",
        "  Row/s and columns\n",
        "\n",
        "```\n",
        "  data.loc[10, columname]  \n",
        "  data.iloc[10, columname]  \n",
        "```\n",
        "\n",
        "Using boolean mask\n",
        "\n",
        "```\n",
        "  mask = data[columname] > value  \n",
        "  data[mask]  \n",
        "```\n",
        "\n",
        "You could combine multiple conditions using & or | (and, or)   \n",
        "\n",
        "```\n",
        "cond1 = data[columname1] > value1  \n",
        "cond2 = data[columname2] > value2  \n",
        "data[cond1 & cond2]  \n",
        "```\n",
        "\n",
        "Using queries .query():  \n",
        "\n",
        "```\n",
        "value = 5\n",
        "data.query(\"columname > value\")  \n",
        "```\n",
        "\n",
        "You could combine multiple conditions using and, or  \n",
        "\n",
        "```\n",
        "data.query(\"(columname1 > value1) and (columname2 > value2)\")\n",
        "```\n",
        "\n",
        "and others. See https://pandas.pydata.org/pandas-docs/stable/user_guide/indexing.html for more examples.\n",
        "\n",
        "Remember to use different quotation marks \" or ' for columnname inside a query.\n"
      ]
    },
    {
      "cell_type": "code",
      "execution_count": null,
      "metadata": {
        "colab": {
          "base_uri": "https://localhost:8080/"
        },
        "id": "WJnCqUx-0YRx",
        "outputId": "db407738-e72a-4a88-d96c-310ad6fbdda8"
      },
      "outputs": [
        {
          "output_type": "stream",
          "name": "stdout",
          "text": [
            "overcast clouds\n",
            "1.0\n",
            "Clouds\n"
          ]
        }
      ],
      "source": [
        "# Select rows by position (int)\n",
        "\n",
        "# Q8.1 What is the temperature of the time slot with index 777?\n",
        "# Q8.2 What is the weather description of the time slot with index 999?\n",
        "\n",
        "print(df[\"weather_description\"].iloc[999])\n",
        "\n",
        "# Q8.3 How much is cloud coverage with index 1337?\n",
        "\n",
        "print(df[\"clouds_all\"].iloc[1337])\n",
        "# Q8.4 What is the weather main of the time slot with index 314?\n",
        "\n",
        "print(df[\"weather_main\"].iloc[314])\n",
        "\n",
        "# Q8.5 When was the time slot with index of 2718 observed?\n"
      ]
    },
    {
      "cell_type": "code",
      "execution_count": null,
      "metadata": {
        "colab": {
          "base_uri": "https://localhost:8080/"
        },
        "id": "Nv5jRoeU0aQG",
        "outputId": "52e1164b-9b5a-4bf4-d889-04204a185203"
      },
      "outputs": [
        {
          "output_type": "stream",
          "name": "stdout",
          "text": [
            "overcast clouds\n",
            "20.0\n"
          ]
        }
      ],
      "source": [
        "# Select rows by index (int)\n",
        "\n",
        "# Q9.1 What is the temperature of the time slot on index 1102?\n",
        "# Q9.2 What is the weather description of the time slot on index 5695?\n",
        "\n",
        "print(df[\"weather_description\"].loc[5695])\n",
        "\n",
        "# Q9.3 How much is cloud coverage on the index 1045?\n",
        "\n",
        "print(df[\"clouds_all\"].loc[1045])\n",
        "\n",
        "# Q9.4 What is the weather main of the time slot from index 252?\n",
        "# Q9.5 When was the time slot with index of 38 captured?\n"
      ]
    },
    {
      "cell_type": "code",
      "execution_count": null,
      "metadata": {
        "colab": {
          "base_uri": "https://localhost:8080/"
        },
        "id": "cZneqD6P0e5C",
        "outputId": "3862dab5-a9bf-4e59-8174-fc9a96ab6f77"
      },
      "outputs": [
        {
          "output_type": "stream",
          "name": "stdout",
          "text": [
            "9308\n",
            "179    2012-10-10 07:00:00\n",
            "Name: date_time, dtype: object\n"
          ]
        }
      ],
      "source": [
        "# Using mask or .query syntax select rows/columns (int)\n",
        "\n",
        "# Q10.1 How many time slots have less than 270 temperature?\n",
        "\n",
        "print(np.count_nonzero(df[\"temp\"] < 270))\n",
        "#print(len(df[df[\"temp\"] < 270]))\n",
        "\n",
        "# Q10.2 When was the first \"light intensity drizzle\" in weather description captured?\n",
        "\n",
        "print(df[\"date_time\"].where(df[\"weather_description\"] == \"light intensity drizzle\").dropna().head(1))\n",
        "\n",
        "# Q10.3 How many time slots have cloud coverage more than 75?\n",
        "# Q10.4 How many time slots are foggy? (weather_main = Fog)\n",
        "# Q10.5 When was the last observed timeslot with weather_description \"heavy snow\"?\n"
      ]
    },
    {
      "cell_type": "code",
      "execution_count": null,
      "metadata": {
        "colab": {
          "base_uri": "https://localhost:8080/"
        },
        "id": "aKWHaRkd8zLP",
        "outputId": "be49fd01-5e0b-4b4d-c056-dcfbdbeb49f9"
      },
      "outputs": [
        {
          "output_type": "stream",
          "name": "stdout",
          "text": [
            "344    68.0\n",
            "Name: clouds_all, dtype: float64\n",
            "4329.0\n"
          ]
        }
      ],
      "source": [
        "# Q11.1 What is the traffic volume of November 20th 2016, at 20:00?\n",
        "# Q11.2 What is the amount of rain in the 70th rainy time slot (non-zero rain) of the dataset?\n",
        "# Q11.3 How much cloud coverage percentage were in sky on October 16th 2012 at 19:00?\n",
        "\n",
        "print(df[\"clouds_all\"].where(df[\"date_time\"] == \"2012-10-16 19:00:00\").dropna())\n",
        "\n",
        "# Q11.4 What is the `traffic_volume` of a thirty fourth sample with `clouds_all` == 90?\n",
        "\n",
        "print(df[\"traffic_volume\"].where(df[\"clouds_all\"] == 90).dropna().iloc[34 - 1])\n",
        "\n",
        "# Q11.5 What is the \"weather_description\" in the 20th \"weather_main\" with Thunderstorm?\n"
      ]
    },
    {
      "cell_type": "code",
      "execution_count": null,
      "metadata": {
        "colab": {
          "base_uri": "https://localhost:8080/"
        },
        "id": "7EX9Kmii8zLQ",
        "outputId": "3d3bf6f5-2c5b-46e7-c820-a9af7bcdbd54"
      },
      "outputs": [
        {
          "output_type": "stream",
          "name": "stdout",
          "text": [
            "288.6\n",
            "276.63\n"
          ]
        }
      ],
      "source": [
        "# Q12.1 What is the temperature of the tenth holiday?\n",
        "# Q12.2 What is the traffic volume for 99-th time slot with cloud coverage 75 percent?\n",
        "# Q12.3 How much is the temperature of the twelfth holiday?\n",
        "# Q12.4 How much is the temperature the 666-th time slot with weather_description 'proximity thunderstorm'?\n",
        "\n",
        "print(df[\"temp\"].where(df[\"weather_description\"] == \"proximity thunderstorm\").dropna().iloc[666 - 1])\n",
        "\n",
        "# Q12.5 What is the temperature of 1337-th time slot with clear sky (clouds_all <= 20)?\n",
        "\n",
        "print(df[\"temp\"].where(df[\"clouds_all\"] <= 20).dropna().iloc[1337 - 1])"
      ]
    },
    {
      "cell_type": "markdown",
      "metadata": {
        "id": "wBLabnN2fAPc"
      },
      "source": [
        "# 4. Creating new columns\n",
        "\n",
        "Creating new column of pandas.DataFrame is as easy as:\n",
        "```\n",
        "data['new_awesome_column'] = []\n",
        "```\n",
        "that's it. But such a column is relatively useless. Typically, you would compute something new based on existing data and save it in a new column. For example one might want to sum a number of existing columns:\n",
        "```\n",
        "data['sum'] = data[col1] + data[col2] + ...\n",
        "```\n",
        "Pandas also provides another powerfull tool: .apply, .map(), .applymap() methods (they are kinda the same, but not quite). https://stackoverflow.com/questions/19798153/difference-between-map-applymap-and-apply-methods-in-pandas . They allow you to apply some function to every value in the column/s (row-wise) or row (column-wise) or cell (element-wise). For example, same computations of sum using .apply():\n",
        "```\n",
        "data['sum'] = data[[col1, col2, col3]].apply(sum, axis=1)\n",
        "```\n",
        "you are not restricted to existent functions, .apply() accepts any function (including lambda functions):\n",
        "```\n",
        "data['sum'] = data[[col1, col2, col3]].apply(lambda x: x[0]+x[1]+x[2], axis=1)\n",
        "```\n",
        "or ordinary python function (if this it should have complex behaviour):\n",
        "```\n",
        "def _sum(x):\n",
        "    total = 0\n",
        "    for elem in x:\n",
        "        total += elem\n",
        "    return total\n",
        "\n",
        "data['sum'] = data[[col1, col2, col3]].apply(_sum, axis=1)\n",
        "```\n",
        "Many pandas methods has axis parameter axis=0 refers to rows, axis=1 refers to columns.\n",
        "\n",
        "Warning. You should never use for loops to sum numerical elements from the container."
      ]
    },
    {
      "cell_type": "code",
      "execution_count": null,
      "metadata": {
        "id": "nxbj9Po2Le18"
      },
      "outputs": [],
      "source": [
        "# Create new columns using the old ones (new column in your DataFrame)\n",
        "\n",
        "# Q13.1 Create a `temp_in_celcius` column from the existing `temp` (kelvin) using any method above\n",
        "\n",
        "df[\"temp_in_celcius\"] = df[\"temp\"] - 273.15\n",
        "\n",
        "# Q13.2 Create a new bool column `hot` which indicates whether the time slot was hot (temp > 300)\n",
        "\n",
        "df[\"hot\"] = (df[\"temp\"] > 300)\n",
        "\n",
        "# Q13.3 Create a new bool column `rainy_and_cloudy` which indicates whether it was rainy (>0.1) AND cloudy (>50)\n",
        "\n",
        "df[\"rainy_and_cloudy\"] = (df[\"rain_1h\"] > 0.1) & (df[\"clouds_all\"] > 50)\n",
        "\n",
        "# Q13.4 Create a new bool column `is_holiday` which indicates whether the day of the time slot falls on any holiday\n",
        "\n",
        "df[\"is_holiday\"] = (df[\"holiday\"] !=\"None\")\n",
        "\n",
        "# Q13.5 Create a new column `traffic_cat` by splitting a `traffic_volume` into 5 ([1..5]) distinct intervals: 0 < x <=20%,\n",
        "# 20% < x <= 40%, ... 80% < x <= 100% percentiles. You could use `.quantile()` to compute percentiles.\n",
        "\n",
        "df[\"traffic_cat\"] = np.where(df['traffic_volume'] <= df['traffic_volume'].quantile(.2), 1,\n",
        "                    np.where((df['traffic_volume'] > df['traffic_volume'].quantile(.2)) & (df['traffic_volume'] <= df['traffic_volume'].quantile(.4)), 2,\n",
        "                    np.where((df['traffic_volume'] > df['traffic_volume'].quantile(.4)) & (df['traffic_volume'] <= df['traffic_volume'].quantile(.6)), 3,\n",
        "                    np.where((df['traffic_volume'] > df['traffic_volume'].quantile(.6)) & (df['traffic_volume'] <= df['traffic_volume'].quantile(.8)), 4, 5))))"
      ]
    },
    {
      "cell_type": "code",
      "source": [
        "df.head()"
      ],
      "metadata": {
        "colab": {
          "base_uri": "https://localhost:8080/",
          "height": 206
        },
        "id": "J-tLCZe7a5L1",
        "outputId": "37436a44-3994-4176-faf6-e5d4ee973e1c"
      },
      "execution_count": null,
      "outputs": [
        {
          "output_type": "execute_result",
          "data": {
            "text/plain": [
              "  holiday    temp  rain_1h  snow_1h  clouds_all weather_main  \\\n",
              "0    None  288.28      0.0      0.0        40.0       Clouds   \n",
              "1    None  289.36      0.0      0.0        75.0       Clouds   \n",
              "2    None  289.58      0.0      0.0        90.0       Clouds   \n",
              "3    None  290.13      0.0      0.0        90.0       Clouds   \n",
              "4    None  291.14      0.0      0.0        75.0       Clouds   \n",
              "\n",
              "  weather_description            date_time  traffic_volume  temp_in_celcius  \\\n",
              "0    scattered clouds  2012-10-02 09:00:00          5545.0            15.13   \n",
              "1       broken clouds  2012-10-02 10:00:00          4516.0            16.21   \n",
              "2     overcast clouds  2012-10-02 11:00:00          4767.0            16.43   \n",
              "3     overcast clouds  2012-10-02 12:00:00          5026.0            16.98   \n",
              "4       broken clouds  2012-10-02 13:00:00          4918.0            17.99   \n",
              "\n",
              "     hot  rainy_and_cloudy  is_holiday  traffic_cat  \n",
              "0  False             False       False            5  \n",
              "1  False             False       False            4  \n",
              "2  False             False       False            4  \n",
              "3  False             False       False            4  \n",
              "4  False             False       False            4  "
            ],
            "text/html": [
              "\n",
              "  <div id=\"df-1b2541bd-2473-44dc-b01d-b4aaf9dd2a9a\">\n",
              "    <div class=\"colab-df-container\">\n",
              "      <div>\n",
              "<style scoped>\n",
              "    .dataframe tbody tr th:only-of-type {\n",
              "        vertical-align: middle;\n",
              "    }\n",
              "\n",
              "    .dataframe tbody tr th {\n",
              "        vertical-align: top;\n",
              "    }\n",
              "\n",
              "    .dataframe thead th {\n",
              "        text-align: right;\n",
              "    }\n",
              "</style>\n",
              "<table border=\"1\" class=\"dataframe\">\n",
              "  <thead>\n",
              "    <tr style=\"text-align: right;\">\n",
              "      <th></th>\n",
              "      <th>holiday</th>\n",
              "      <th>temp</th>\n",
              "      <th>rain_1h</th>\n",
              "      <th>snow_1h</th>\n",
              "      <th>clouds_all</th>\n",
              "      <th>weather_main</th>\n",
              "      <th>weather_description</th>\n",
              "      <th>date_time</th>\n",
              "      <th>traffic_volume</th>\n",
              "      <th>temp_in_celcius</th>\n",
              "      <th>hot</th>\n",
              "      <th>rainy_and_cloudy</th>\n",
              "      <th>is_holiday</th>\n",
              "      <th>traffic_cat</th>\n",
              "    </tr>\n",
              "  </thead>\n",
              "  <tbody>\n",
              "    <tr>\n",
              "      <th>0</th>\n",
              "      <td>None</td>\n",
              "      <td>288.28</td>\n",
              "      <td>0.0</td>\n",
              "      <td>0.0</td>\n",
              "      <td>40.0</td>\n",
              "      <td>Clouds</td>\n",
              "      <td>scattered clouds</td>\n",
              "      <td>2012-10-02 09:00:00</td>\n",
              "      <td>5545.0</td>\n",
              "      <td>15.13</td>\n",
              "      <td>False</td>\n",
              "      <td>False</td>\n",
              "      <td>False</td>\n",
              "      <td>5</td>\n",
              "    </tr>\n",
              "    <tr>\n",
              "      <th>1</th>\n",
              "      <td>None</td>\n",
              "      <td>289.36</td>\n",
              "      <td>0.0</td>\n",
              "      <td>0.0</td>\n",
              "      <td>75.0</td>\n",
              "      <td>Clouds</td>\n",
              "      <td>broken clouds</td>\n",
              "      <td>2012-10-02 10:00:00</td>\n",
              "      <td>4516.0</td>\n",
              "      <td>16.21</td>\n",
              "      <td>False</td>\n",
              "      <td>False</td>\n",
              "      <td>False</td>\n",
              "      <td>4</td>\n",
              "    </tr>\n",
              "    <tr>\n",
              "      <th>2</th>\n",
              "      <td>None</td>\n",
              "      <td>289.58</td>\n",
              "      <td>0.0</td>\n",
              "      <td>0.0</td>\n",
              "      <td>90.0</td>\n",
              "      <td>Clouds</td>\n",
              "      <td>overcast clouds</td>\n",
              "      <td>2012-10-02 11:00:00</td>\n",
              "      <td>4767.0</td>\n",
              "      <td>16.43</td>\n",
              "      <td>False</td>\n",
              "      <td>False</td>\n",
              "      <td>False</td>\n",
              "      <td>4</td>\n",
              "    </tr>\n",
              "    <tr>\n",
              "      <th>3</th>\n",
              "      <td>None</td>\n",
              "      <td>290.13</td>\n",
              "      <td>0.0</td>\n",
              "      <td>0.0</td>\n",
              "      <td>90.0</td>\n",
              "      <td>Clouds</td>\n",
              "      <td>overcast clouds</td>\n",
              "      <td>2012-10-02 12:00:00</td>\n",
              "      <td>5026.0</td>\n",
              "      <td>16.98</td>\n",
              "      <td>False</td>\n",
              "      <td>False</td>\n",
              "      <td>False</td>\n",
              "      <td>4</td>\n",
              "    </tr>\n",
              "    <tr>\n",
              "      <th>4</th>\n",
              "      <td>None</td>\n",
              "      <td>291.14</td>\n",
              "      <td>0.0</td>\n",
              "      <td>0.0</td>\n",
              "      <td>75.0</td>\n",
              "      <td>Clouds</td>\n",
              "      <td>broken clouds</td>\n",
              "      <td>2012-10-02 13:00:00</td>\n",
              "      <td>4918.0</td>\n",
              "      <td>17.99</td>\n",
              "      <td>False</td>\n",
              "      <td>False</td>\n",
              "      <td>False</td>\n",
              "      <td>4</td>\n",
              "    </tr>\n",
              "  </tbody>\n",
              "</table>\n",
              "</div>\n",
              "      <button class=\"colab-df-convert\" onclick=\"convertToInteractive('df-1b2541bd-2473-44dc-b01d-b4aaf9dd2a9a')\"\n",
              "              title=\"Convert this dataframe to an interactive table.\"\n",
              "              style=\"display:none;\">\n",
              "        \n",
              "  <svg xmlns=\"http://www.w3.org/2000/svg\" height=\"24px\"viewBox=\"0 0 24 24\"\n",
              "       width=\"24px\">\n",
              "    <path d=\"M0 0h24v24H0V0z\" fill=\"none\"/>\n",
              "    <path d=\"M18.56 5.44l.94 2.06.94-2.06 2.06-.94-2.06-.94-.94-2.06-.94 2.06-2.06.94zm-11 1L8.5 8.5l.94-2.06 2.06-.94-2.06-.94L8.5 2.5l-.94 2.06-2.06.94zm10 10l.94 2.06.94-2.06 2.06-.94-2.06-.94-.94-2.06-.94 2.06-2.06.94z\"/><path d=\"M17.41 7.96l-1.37-1.37c-.4-.4-.92-.59-1.43-.59-.52 0-1.04.2-1.43.59L10.3 9.45l-7.72 7.72c-.78.78-.78 2.05 0 2.83L4 21.41c.39.39.9.59 1.41.59.51 0 1.02-.2 1.41-.59l7.78-7.78 2.81-2.81c.8-.78.8-2.07 0-2.86zM5.41 20L4 18.59l7.72-7.72 1.47 1.35L5.41 20z\"/>\n",
              "  </svg>\n",
              "      </button>\n",
              "      \n",
              "  <style>\n",
              "    .colab-df-container {\n",
              "      display:flex;\n",
              "      flex-wrap:wrap;\n",
              "      gap: 12px;\n",
              "    }\n",
              "\n",
              "    .colab-df-convert {\n",
              "      background-color: #E8F0FE;\n",
              "      border: none;\n",
              "      border-radius: 50%;\n",
              "      cursor: pointer;\n",
              "      display: none;\n",
              "      fill: #1967D2;\n",
              "      height: 32px;\n",
              "      padding: 0 0 0 0;\n",
              "      width: 32px;\n",
              "    }\n",
              "\n",
              "    .colab-df-convert:hover {\n",
              "      background-color: #E2EBFA;\n",
              "      box-shadow: 0px 1px 2px rgba(60, 64, 67, 0.3), 0px 1px 3px 1px rgba(60, 64, 67, 0.15);\n",
              "      fill: #174EA6;\n",
              "    }\n",
              "\n",
              "    [theme=dark] .colab-df-convert {\n",
              "      background-color: #3B4455;\n",
              "      fill: #D2E3FC;\n",
              "    }\n",
              "\n",
              "    [theme=dark] .colab-df-convert:hover {\n",
              "      background-color: #434B5C;\n",
              "      box-shadow: 0px 1px 3px 1px rgba(0, 0, 0, 0.15);\n",
              "      filter: drop-shadow(0px 1px 2px rgba(0, 0, 0, 0.3));\n",
              "      fill: #FFFFFF;\n",
              "    }\n",
              "  </style>\n",
              "\n",
              "      <script>\n",
              "        const buttonEl =\n",
              "          document.querySelector('#df-1b2541bd-2473-44dc-b01d-b4aaf9dd2a9a button.colab-df-convert');\n",
              "        buttonEl.style.display =\n",
              "          google.colab.kernel.accessAllowed ? 'block' : 'none';\n",
              "\n",
              "        async function convertToInteractive(key) {\n",
              "          const element = document.querySelector('#df-1b2541bd-2473-44dc-b01d-b4aaf9dd2a9a');\n",
              "          const dataTable =\n",
              "            await google.colab.kernel.invokeFunction('convertToInteractive',\n",
              "                                                     [key], {});\n",
              "          if (!dataTable) return;\n",
              "\n",
              "          const docLinkHtml = 'Like what you see? Visit the ' +\n",
              "            '<a target=\"_blank\" href=https://colab.research.google.com/notebooks/data_table.ipynb>data table notebook</a>'\n",
              "            + ' to learn more about interactive tables.';\n",
              "          element.innerHTML = '';\n",
              "          dataTable['output_type'] = 'display_data';\n",
              "          await google.colab.output.renderOutput(dataTable, element);\n",
              "          const docLink = document.createElement('div');\n",
              "          docLink.innerHTML = docLinkHtml;\n",
              "          element.appendChild(docLink);\n",
              "        }\n",
              "      </script>\n",
              "    </div>\n",
              "  </div>\n",
              "  "
            ]
          },
          "metadata": {},
          "execution_count": 21
        }
      ]
    },
    {
      "cell_type": "code",
      "execution_count": null,
      "metadata": {
        "colab": {
          "base_uri": "https://localhost:8080/"
        },
        "id": "xm4Ve-s70h73",
        "outputId": "f2b2dac0-a6ff-43ad-cc35-ba9cd96ea489"
      },
      "outputs": [
        {
          "output_type": "stream",
          "name": "stdout",
          "text": [
            "643\n",
            "978\n",
            "12133\n",
            "4780.0\n"
          ]
        }
      ],
      "source": [
        "# Using mask or .query syntax select rows/columns (int).\n",
        "# For working with dates, define helper functions that operate on the date_time string.\n",
        "\n",
        "# Q14.1 How many cloudy time slots were captured in autumn 2016? Including both start and end day.\n",
        "\n",
        "print(len(df.where((df[\"weather_main\"] == \"Clouds\") & ((df[\"date_time\"] >= \"2016-09-01 00:00:00\") & (df[\"date_time\"] < \"2016-12-01 00:00:00\"))).dropna()))\n",
        "\n",
        "# Q14.2 How many rainy time slots that were captured in the fall, with traffic volume more than 2000?\n",
        "\n",
        "print(len(df.where((df[\"weather_main\"] == \"Rain\") & (df[\"traffic_volume\"] > 2000) & ((pd.DatetimeIndex(df['date_time']).month == 9) | (pd.DatetimeIndex(df['date_time']).month == 10) | (pd.DatetimeIndex(df['date_time']).month == 11))).dropna()))\n",
        "\n",
        "# Q14.3 How many time slots that are warmer than 270, have weather main \"Clouds\"?\n",
        "\n",
        "print(len(df.where((df[\"weather_main\"] == \"Clouds\") & (df[\"temp\"] > 270)).dropna()))\n",
        "\n",
        "# Q14.4 What is the minimum traffic volume of time slots captured on March 8th (all years), that was warmer than 290?\n",
        "\n",
        "print(df[\"traffic_volume\"].where((df[\"temp\"] > 290) & ((pd.DatetimeIndex(df['date_time']).month == 3) & (pd.DatetimeIndex(df['date_time']).day == 8))).dropna().min())\n",
        "\n",
        "# Q14.5 How much is the maximum traffic volume for the time slots were captured in June 2017 and has clear sky (weather_main)?\n"
      ]
    },
    {
      "cell_type": "code",
      "execution_count": null,
      "metadata": {
        "colab": {
          "base_uri": "https://localhost:8080/"
        },
        "id": "TTVitIYf0ib3",
        "outputId": "13e339e1-41e7-4cb9-ac11-a23c1ef2e3be"
      },
      "outputs": [
        {
          "output_type": "stream",
          "name": "stdout",
          "text": [
            "275.805\n",
            "1462.000\n",
            "[5167.  888.]\n",
            "3489.000\n",
            "308.430\n"
          ]
        }
      ],
      "source": [
        "# Using mask or .query syntax select rows/columns and compute simple statistics (float)\n",
        "\n",
        "# Q15.1 What was the average temperature of time slots with main weather \"Haze\"?\n",
        "\n",
        "print(\"%.3f\" % df[\"temp\"].where(df[\"weather_main\"] == \"Haze\").dropna().mean())\n",
        "\n",
        "# Q15.2 What was the traffic volume of the coldest time slot of the year 2016?\n",
        "\n",
        "print(\"%.3f\" % df[\"traffic_volume\"].where((pd.DatetimeIndex(df['date_time']).year == 2016) & (df['temp'] == df['temp'].where(pd.DatetimeIndex(df['date_time']).year == 2016).dropna().min())).dropna())\n",
        "\n",
        "# Q15.3 What was the traffic volume of the highest amount of snow in one hour?\n",
        "\n",
        "print(df[\"traffic_volume\"].where(df[\"snow_1h\"] == df[\"snow_1h\"].max()).dropna().unique())\n",
        "\n",
        "# Q15.4 What is the median of temperatures captured in April 2017?\n",
        "\n",
        "print(\"%.3f\" % df[\"traffic_volume\"].where((pd.DatetimeIndex(df['date_time']).month == 4) & (pd.DatetimeIndex(df['date_time']).year == 2017)).dropna().median())\n",
        "\n",
        "# Q15.5 What is the maximum temperature of time slots with clear sky?\n",
        "\n",
        "print(\"%.3f\" % df[\"temp\"].where(df[\"weather_main\"] == \"Clear\").dropna().max())"
      ]
    },
    {
      "cell_type": "code",
      "execution_count": null,
      "metadata": {
        "colab": {
          "base_uri": "https://localhost:8080/"
        },
        "id": "Fzig1HmlL4rq",
        "outputId": "d471952b-08b2-48a7-c1f5-8bbcca7cf64d"
      },
      "outputs": [
        {
          "output_type": "stream",
          "name": "stdout",
          "text": [
            "13.585\n",
            "865.443\n",
            "3262.894\n",
            "5870.913\n",
            "485.554\n"
          ]
        }
      ],
      "source": [
        "# Using mask or .query syntax select rows/columns (float)\n",
        "\n",
        "# Q16.1 What is the average temperature in celcius of the time slots with rainy_and_coudy=True?\n",
        "\n",
        "print(\"%.3f\" % df[\"temp_in_celcius\"].where(df[\"rainy_and_cloudy\"] == True).dropna().mean())\n",
        "\n",
        "# Q16.2 What is the average traffic volume on holidays?\n",
        "\n",
        "print(\"%.3f\" % df[\"traffic_volume\"].where(df[\"is_holiday\"] == True).dropna().mean())\n",
        "\n",
        "# Q16.3 What is the average traffic volume on non-holidays?\n",
        "\n",
        "print(\"%.3f\" % df[\"traffic_volume\"].where(df[\"is_holiday\"] == False).dropna().mean())\n",
        "\n",
        "# Q16.4 What is the average traffic volume in the highest quantile?\n",
        "\n",
        "print(\"%.3f\" % df[\"traffic_volume\"].where(df[\"traffic_cat\"] == 5).dropna().mean())\n",
        "\n",
        "# Q16.5 What is the average traffic volume in the lowest quantile?\n",
        "\n",
        "print(\"%.3f\" % df[\"traffic_volume\"].where(df[\"traffic_cat\"] == 1).dropna().mean())"
      ]
    },
    {
      "cell_type": "markdown",
      "metadata": {
        "id": "ezvSnhPRfFXM"
      },
      "source": [
        "# 5. Basic date processing\n",
        "\n",
        "You figure out that column date is to harsh for you, so you decided to convert it to a more plausible format:\n",
        "\n",
        "- Use pandas method to_datetime() to convert the date to a good format.\n",
        "- Extract year, month, day and weekday from your new date column. Save them to separate columns.\n",
        "- How many columns has your data now?\n",
        "- Drop column date, remember to set inplace parameter to True.\n",
        "\n",
        "Hint: for datetime formatted date you could extract the year as follow:\n",
        "```\n",
        "data.date.dt.year\n",
        "```\n",
        "Very often date could be a ridiculously rich feature, sometimes it is holidays that matters, sometimes weekends, sometimes some special days like black friday.\n",
        "\n",
        "Learn how to work with date in Python!\n"
      ]
    },
    {
      "cell_type": "code",
      "execution_count": null,
      "metadata": {
        "id": "ZghL5CmKTBZc"
      },
      "outputs": [],
      "source": [
        "# Create new columns based on `Captured` column\n",
        "\n",
        "# Q17.1 Convert date to datetime format\n",
        "\n",
        "df[\"date_time\"] = pd.to_datetime(df[\"date_time\"], errors='coerce', format='%Y-%m-%d %H:%M:%S')\n",
        "\n",
        "# Q17.2 Extract and store `year`\n",
        "\n",
        "df[\"year\"] = pd.DatetimeIndex(df['date_time']).year\n",
        "\n",
        "# Q17.3 Extract and store `month`\n",
        "\n",
        "df[\"month\"] = pd.DatetimeIndex(df['date_time']).month\n",
        "\n",
        "# Q17.4 Extract and store `day`\n",
        "\n",
        "df[\"day\"] = pd.DatetimeIndex(df['date_time']).day\n",
        "\n",
        "# Q17.5 Extract and store `weekday` (Monday - 0, Sunday - 6)\n",
        "\n",
        "df[\"weekday\"] = df[\"date_time\"].dt.dayofweek\n",
        "\n",
        "# Q17.6 Extract and store `hour`\n",
        "\n",
        "df[\"hour\"] = pd.DatetimeIndex(df['date_time']).hour"
      ]
    },
    {
      "cell_type": "code",
      "execution_count": null,
      "metadata": {
        "colab": {
          "base_uri": "https://localhost:8080/"
        },
        "id": "UU_wYcyETK9T",
        "outputId": "f1448085-35ef-455a-cb04-a9694ef017ef"
      },
      "outputs": [
        {
          "output_type": "stream",
          "name": "stdout",
          "text": [
            "[3.]\n",
            "[5.]\n",
            "3303.049\n",
            "4749.296\n",
            "3445.976\n"
          ]
        }
      ],
      "source": [
        "# Find some date related information from the data (int)\n",
        "\n",
        "# Q18.1 What is the weekday with the highest traffic volume?\n",
        "\n",
        "print(df[\"weekday\"].where(df[\"traffic_volume\"] == df[\"traffic_volume\"].max()).dropna().unique())\n",
        "\n",
        "# Q18.2 What is the weekday with the lowest traffic volume?\n",
        "\n",
        "print(df[\"weekday\"].where(df[\"traffic_volume\"] == df[\"traffic_volume\"].min()).dropna().unique())\n",
        "\n",
        "# Q18.3 What is the average traffic volume during months of September?\n",
        "\n",
        "print(\"%.3f\" % df[\"traffic_volume\"].where(pd.DatetimeIndex(df['date_time']).month == 9).dropna().mean())\n",
        "\n",
        "# Q18.4 What is the average traffic volume in the time period between 15-19 hours\n",
        "\n",
        "print(\"%.3f\" % df[\"traffic_volume\"].where((df[\"hour\"] >= 15) & (df[\"hour\"] <= 19)).dropna().mean())\n",
        "\n",
        "# Q18.5 What is the average traffic volume on World Bicycle Day (June 3)?\n",
        "\n",
        "print(\"%.3f\" % df[\"traffic_volume\"].where((pd.DatetimeIndex(df['date_time']).month == 6) & (pd.DatetimeIndex(df['date_time']).day == 3)).dropna().mean())"
      ]
    },
    {
      "cell_type": "markdown",
      "metadata": {
        "id": "4LrPCPd0fRYz"
      },
      "source": [
        "# 6. Groupby\n",
        "\n",
        "from the documentation https://pandas.pydata.org/pandas-docs/stable/user_guide/groupby.html\n",
        "\n",
        "By “group by” we are referring to a process involving one or more of the following steps:\n",
        "\n",
        "- Splitting the data into groups based on some criteria.\n",
        "- Applying a function to each group independently.\n",
        "- Combining the results into a data structure.\n",
        "\n",
        "`.groupby()` is one of the most powerfull tool for feature engineering. Very often it is used to group object with the same categorical characteristics and compute some statistics (e.g. mean, max, etc.) of a their numerical characteric.\n",
        "\n",
        "Instead of computing average traffic volume with for each month you could compute average traffic volumes for every month in a single command:\n",
        "```\n",
        "data.groupby('month')['traffic_volume'].mean()\n",
        "```\n",
        "You could also make multi-column groups:\n",
        "```\n",
        "data.groupby(['weekday','month'])['traffic_volume'].min()\n",
        "```\n",
        "next, you could compute multiple aggregation functions:\n",
        "```\n",
        "data.groupby(['weekday','month'])['traffic_volume'].agg([min, max])\n",
        "```\n",
        "instead of using built-in functions you could compute custom functions using apply:\n",
        "```\n",
        "import numpy as np\n",
        "data.groupby(['weekday','month'])['traffic_volume'].apply(lambda x: np.quantile(x, .5))\n",
        "```\n",
        "and the coolest thing now is that you can map the results of groupby back on your DataFrame!\n",
        "```\n",
        "gp = data.groupby(['month'])['traffic_volume'].median()\n",
        "data['gp_feature'] = data['month'].map(gp)\n",
        "```\n",
        "Now, if some timeslot has month == 2, its gp_feature will be equal to the median traffic volume amongst all observations in February\n",
        "\n",
        "Read more examples in the documentation https://pandas.pydata.org/pandas-docs/stable/user_guide/groupby.html\n"
      ]
    },
    {
      "cell_type": "code",
      "execution_count": null,
      "metadata": {
        "id": "nRmmkfIVXp5K",
        "colab": {
          "base_uri": "https://localhost:8080/"
        },
        "outputId": "531e8789-2dd4-4d87-e0ac-76605ab769f5"
      },
      "outputs": [
        {
          "output_type": "stream",
          "name": "stdout",
          "text": [
            "year\n",
            "2012    3225.0\n",
            "2013    3344.0\n",
            "2014    3316.0\n",
            "2015    3368.0\n",
            "2016    3258.5\n",
            "2017    3530.0\n",
            "2018    3400.0\n",
            "Name: traffic_volume, dtype: float64\n",
            "weekday\n",
            "0    3619.0\n",
            "1    4070.0\n",
            "2    4315.0\n",
            "3    4280.0\n",
            "4    4336.5\n",
            "5    3003.0\n",
            "6    2260.0\n",
            "Name: traffic_volume, dtype: float64\n",
            "traffic_cat\n",
            "1    5.445774\n",
            "2    6.031004\n",
            "3    9.244710\n",
            "4    9.797489\n",
            "5    9.740191\n",
            "Name: temp_in_celcius, dtype: float64\n"
          ]
        }
      ],
      "source": [
        "# Create some groupby features\n",
        "\n",
        "# Q19.1 `traffic_by_year` groupby `year` and compute median traffic volume.\n",
        "\n",
        "print(df[\"traffic_volume\"].groupby(df[\"year\"]).median())\n",
        "\n",
        "# Q19.2 `traffic_by_weekday` groupby `weekday` and compute median traffic volume.\n",
        "\n",
        "print(df[\"traffic_volume\"].groupby(df[\"weekday\"]).median())\n",
        "\n",
        "# Q19.3 `temperature_by_traffic` groupby `traffic_cat` and compute average temperature in celsius.\n",
        "\n",
        "print(df[\"temp_in_celcius\"].groupby(df[\"traffic_cat\"]).mean())"
      ]
    },
    {
      "cell_type": "markdown",
      "metadata": {
        "id": "_Y3IX6U1fOVI"
      },
      "source": [
        "# 7. Building a regression model\n",
        "\n",
        "- You do not need to normalize data for tree models, and for linear/knn models this step is essential.\n",
        "- Remember, that not all of the features in the table are numeric, some of them might be viewed as categorical.\n",
        "- You may create or drop any features you want - try to only keep features which you think will be relevant to the prediction of traffic volume.\n",
        "\n"
      ]
    },
    {
      "cell_type": "code",
      "source": [
        "df.head()"
      ],
      "metadata": {
        "colab": {
          "base_uri": "https://localhost:8080/",
          "height": 206
        },
        "id": "TOCmTyW9y3UM",
        "outputId": "a1d67986-acb9-4a90-9b47-5a5cdd8dc886"
      },
      "execution_count": null,
      "outputs": [
        {
          "output_type": "execute_result",
          "data": {
            "text/plain": [
              "  holiday    temp  rain_1h  snow_1h  clouds_all weather_main  \\\n",
              "0    None  288.28      0.0      0.0        40.0       Clouds   \n",
              "1    None  289.36      0.0      0.0        75.0       Clouds   \n",
              "2    None  289.58      0.0      0.0        90.0       Clouds   \n",
              "3    None  290.13      0.0      0.0        90.0       Clouds   \n",
              "4    None  291.14      0.0      0.0        75.0       Clouds   \n",
              "\n",
              "  weather_description           date_time  traffic_volume  temp_in_celcius  \\\n",
              "0    scattered clouds 2012-10-02 09:00:00          5545.0            15.13   \n",
              "1       broken clouds 2012-10-02 10:00:00          4516.0            16.21   \n",
              "2     overcast clouds 2012-10-02 11:00:00          4767.0            16.43   \n",
              "3     overcast clouds 2012-10-02 12:00:00          5026.0            16.98   \n",
              "4       broken clouds 2012-10-02 13:00:00          4918.0            17.99   \n",
              "\n",
              "     hot  rainy_and_cloudy  is_holiday  traffic_cat  year  month  day  \\\n",
              "0  False             False       False            5  2012     10    2   \n",
              "1  False             False       False            4  2012     10    2   \n",
              "2  False             False       False            4  2012     10    2   \n",
              "3  False             False       False            4  2012     10    2   \n",
              "4  False             False       False            4  2012     10    2   \n",
              "\n",
              "   weekday  hour  \n",
              "0        1     9  \n",
              "1        1    10  \n",
              "2        1    11  \n",
              "3        1    12  \n",
              "4        1    13  "
            ],
            "text/html": [
              "\n",
              "  <div id=\"df-64cfa941-831f-4a77-9397-ec4d0b74d7bd\">\n",
              "    <div class=\"colab-df-container\">\n",
              "      <div>\n",
              "<style scoped>\n",
              "    .dataframe tbody tr th:only-of-type {\n",
              "        vertical-align: middle;\n",
              "    }\n",
              "\n",
              "    .dataframe tbody tr th {\n",
              "        vertical-align: top;\n",
              "    }\n",
              "\n",
              "    .dataframe thead th {\n",
              "        text-align: right;\n",
              "    }\n",
              "</style>\n",
              "<table border=\"1\" class=\"dataframe\">\n",
              "  <thead>\n",
              "    <tr style=\"text-align: right;\">\n",
              "      <th></th>\n",
              "      <th>holiday</th>\n",
              "      <th>temp</th>\n",
              "      <th>rain_1h</th>\n",
              "      <th>snow_1h</th>\n",
              "      <th>clouds_all</th>\n",
              "      <th>weather_main</th>\n",
              "      <th>weather_description</th>\n",
              "      <th>date_time</th>\n",
              "      <th>traffic_volume</th>\n",
              "      <th>temp_in_celcius</th>\n",
              "      <th>hot</th>\n",
              "      <th>rainy_and_cloudy</th>\n",
              "      <th>is_holiday</th>\n",
              "      <th>traffic_cat</th>\n",
              "      <th>year</th>\n",
              "      <th>month</th>\n",
              "      <th>day</th>\n",
              "      <th>weekday</th>\n",
              "      <th>hour</th>\n",
              "    </tr>\n",
              "  </thead>\n",
              "  <tbody>\n",
              "    <tr>\n",
              "      <th>0</th>\n",
              "      <td>None</td>\n",
              "      <td>288.28</td>\n",
              "      <td>0.0</td>\n",
              "      <td>0.0</td>\n",
              "      <td>40.0</td>\n",
              "      <td>Clouds</td>\n",
              "      <td>scattered clouds</td>\n",
              "      <td>2012-10-02 09:00:00</td>\n",
              "      <td>5545.0</td>\n",
              "      <td>15.13</td>\n",
              "      <td>False</td>\n",
              "      <td>False</td>\n",
              "      <td>False</td>\n",
              "      <td>5</td>\n",
              "      <td>2012</td>\n",
              "      <td>10</td>\n",
              "      <td>2</td>\n",
              "      <td>1</td>\n",
              "      <td>9</td>\n",
              "    </tr>\n",
              "    <tr>\n",
              "      <th>1</th>\n",
              "      <td>None</td>\n",
              "      <td>289.36</td>\n",
              "      <td>0.0</td>\n",
              "      <td>0.0</td>\n",
              "      <td>75.0</td>\n",
              "      <td>Clouds</td>\n",
              "      <td>broken clouds</td>\n",
              "      <td>2012-10-02 10:00:00</td>\n",
              "      <td>4516.0</td>\n",
              "      <td>16.21</td>\n",
              "      <td>False</td>\n",
              "      <td>False</td>\n",
              "      <td>False</td>\n",
              "      <td>4</td>\n",
              "      <td>2012</td>\n",
              "      <td>10</td>\n",
              "      <td>2</td>\n",
              "      <td>1</td>\n",
              "      <td>10</td>\n",
              "    </tr>\n",
              "    <tr>\n",
              "      <th>2</th>\n",
              "      <td>None</td>\n",
              "      <td>289.58</td>\n",
              "      <td>0.0</td>\n",
              "      <td>0.0</td>\n",
              "      <td>90.0</td>\n",
              "      <td>Clouds</td>\n",
              "      <td>overcast clouds</td>\n",
              "      <td>2012-10-02 11:00:00</td>\n",
              "      <td>4767.0</td>\n",
              "      <td>16.43</td>\n",
              "      <td>False</td>\n",
              "      <td>False</td>\n",
              "      <td>False</td>\n",
              "      <td>4</td>\n",
              "      <td>2012</td>\n",
              "      <td>10</td>\n",
              "      <td>2</td>\n",
              "      <td>1</td>\n",
              "      <td>11</td>\n",
              "    </tr>\n",
              "    <tr>\n",
              "      <th>3</th>\n",
              "      <td>None</td>\n",
              "      <td>290.13</td>\n",
              "      <td>0.0</td>\n",
              "      <td>0.0</td>\n",
              "      <td>90.0</td>\n",
              "      <td>Clouds</td>\n",
              "      <td>overcast clouds</td>\n",
              "      <td>2012-10-02 12:00:00</td>\n",
              "      <td>5026.0</td>\n",
              "      <td>16.98</td>\n",
              "      <td>False</td>\n",
              "      <td>False</td>\n",
              "      <td>False</td>\n",
              "      <td>4</td>\n",
              "      <td>2012</td>\n",
              "      <td>10</td>\n",
              "      <td>2</td>\n",
              "      <td>1</td>\n",
              "      <td>12</td>\n",
              "    </tr>\n",
              "    <tr>\n",
              "      <th>4</th>\n",
              "      <td>None</td>\n",
              "      <td>291.14</td>\n",
              "      <td>0.0</td>\n",
              "      <td>0.0</td>\n",
              "      <td>75.0</td>\n",
              "      <td>Clouds</td>\n",
              "      <td>broken clouds</td>\n",
              "      <td>2012-10-02 13:00:00</td>\n",
              "      <td>4918.0</td>\n",
              "      <td>17.99</td>\n",
              "      <td>False</td>\n",
              "      <td>False</td>\n",
              "      <td>False</td>\n",
              "      <td>4</td>\n",
              "      <td>2012</td>\n",
              "      <td>10</td>\n",
              "      <td>2</td>\n",
              "      <td>1</td>\n",
              "      <td>13</td>\n",
              "    </tr>\n",
              "  </tbody>\n",
              "</table>\n",
              "</div>\n",
              "      <button class=\"colab-df-convert\" onclick=\"convertToInteractive('df-64cfa941-831f-4a77-9397-ec4d0b74d7bd')\"\n",
              "              title=\"Convert this dataframe to an interactive table.\"\n",
              "              style=\"display:none;\">\n",
              "        \n",
              "  <svg xmlns=\"http://www.w3.org/2000/svg\" height=\"24px\"viewBox=\"0 0 24 24\"\n",
              "       width=\"24px\">\n",
              "    <path d=\"M0 0h24v24H0V0z\" fill=\"none\"/>\n",
              "    <path d=\"M18.56 5.44l.94 2.06.94-2.06 2.06-.94-2.06-.94-.94-2.06-.94 2.06-2.06.94zm-11 1L8.5 8.5l.94-2.06 2.06-.94-2.06-.94L8.5 2.5l-.94 2.06-2.06.94zm10 10l.94 2.06.94-2.06 2.06-.94-2.06-.94-.94-2.06-.94 2.06-2.06.94z\"/><path d=\"M17.41 7.96l-1.37-1.37c-.4-.4-.92-.59-1.43-.59-.52 0-1.04.2-1.43.59L10.3 9.45l-7.72 7.72c-.78.78-.78 2.05 0 2.83L4 21.41c.39.39.9.59 1.41.59.51 0 1.02-.2 1.41-.59l7.78-7.78 2.81-2.81c.8-.78.8-2.07 0-2.86zM5.41 20L4 18.59l7.72-7.72 1.47 1.35L5.41 20z\"/>\n",
              "  </svg>\n",
              "      </button>\n",
              "      \n",
              "  <style>\n",
              "    .colab-df-container {\n",
              "      display:flex;\n",
              "      flex-wrap:wrap;\n",
              "      gap: 12px;\n",
              "    }\n",
              "\n",
              "    .colab-df-convert {\n",
              "      background-color: #E8F0FE;\n",
              "      border: none;\n",
              "      border-radius: 50%;\n",
              "      cursor: pointer;\n",
              "      display: none;\n",
              "      fill: #1967D2;\n",
              "      height: 32px;\n",
              "      padding: 0 0 0 0;\n",
              "      width: 32px;\n",
              "    }\n",
              "\n",
              "    .colab-df-convert:hover {\n",
              "      background-color: #E2EBFA;\n",
              "      box-shadow: 0px 1px 2px rgba(60, 64, 67, 0.3), 0px 1px 3px 1px rgba(60, 64, 67, 0.15);\n",
              "      fill: #174EA6;\n",
              "    }\n",
              "\n",
              "    [theme=dark] .colab-df-convert {\n",
              "      background-color: #3B4455;\n",
              "      fill: #D2E3FC;\n",
              "    }\n",
              "\n",
              "    [theme=dark] .colab-df-convert:hover {\n",
              "      background-color: #434B5C;\n",
              "      box-shadow: 0px 1px 3px 1px rgba(0, 0, 0, 0.15);\n",
              "      filter: drop-shadow(0px 1px 2px rgba(0, 0, 0, 0.3));\n",
              "      fill: #FFFFFF;\n",
              "    }\n",
              "  </style>\n",
              "\n",
              "      <script>\n",
              "        const buttonEl =\n",
              "          document.querySelector('#df-64cfa941-831f-4a77-9397-ec4d0b74d7bd button.colab-df-convert');\n",
              "        buttonEl.style.display =\n",
              "          google.colab.kernel.accessAllowed ? 'block' : 'none';\n",
              "\n",
              "        async function convertToInteractive(key) {\n",
              "          const element = document.querySelector('#df-64cfa941-831f-4a77-9397-ec4d0b74d7bd');\n",
              "          const dataTable =\n",
              "            await google.colab.kernel.invokeFunction('convertToInteractive',\n",
              "                                                     [key], {});\n",
              "          if (!dataTable) return;\n",
              "\n",
              "          const docLinkHtml = 'Like what you see? Visit the ' +\n",
              "            '<a target=\"_blank\" href=https://colab.research.google.com/notebooks/data_table.ipynb>data table notebook</a>'\n",
              "            + ' to learn more about interactive tables.';\n",
              "          element.innerHTML = '';\n",
              "          dataTable['output_type'] = 'display_data';\n",
              "          await google.colab.output.renderOutput(dataTable, element);\n",
              "          const docLink = document.createElement('div');\n",
              "          docLink.innerHTML = docLinkHtml;\n",
              "          element.appendChild(docLink);\n",
              "        }\n",
              "      </script>\n",
              "    </div>\n",
              "  </div>\n",
              "  "
            ]
          },
          "metadata": {},
          "execution_count": 28
        }
      ]
    },
    {
      "cell_type": "code",
      "execution_count": null,
      "metadata": {
        "id": "AwdbUu2wYKpB"
      },
      "outputs": [],
      "source": [
        "# Q20 Separate your data into inputs and targets, keeping only relevant inputs. Drop any features computed from the output eg. `traffic_cat`\n",
        "Y = df[\"traffic_volume\"]\n",
        "\n",
        "good_columns = [\"temp\", \"rain_1h\", \"snow_1h\", \"clouds_all\"] #todo\n",
        "Xdf = df[good_columns]"
      ]
    },
    {
      "cell_type": "markdown",
      "metadata": {
        "id": "TuYIR4VX8zLT"
      },
      "source": [
        "Now it's time to split our data into train and test sets. Generally a random split is used, but one needs to be very careful with time series data - we need to make sure train and test data don't contain mixed adjacent time slots. In general with time series, it is recommended not to predict values from the past using input information from the future (although the applicability of this rule in our case is debatable), so we'll use sklearn's [TimeSeriesSplit](https://scikit-learn.org/stable/modules/generated/sklearn.model_selection.TimeSeriesSplit.html) class here. TimeSeriesSplit splits data into a number of folds, then only provides data from past folds to train a model tested on the currently considered fold. So if we split our data into five parts, we'll get four folds:\n",
        "\n",
        "1. Train on [0], test on [1]\n",
        "2. Train on [0,1], test on [2]\n",
        "3. Train on [0, 1, 2], test on [3]\n",
        "4. Train on [0, 1, 2, 3], test on [4]\n",
        "\n",
        "For the following tasks, you are required to use train and test indices from the last fold provided by TimeSeriesSplit with `n_splits` = 5."
      ]
    },
    {
      "cell_type": "code",
      "execution_count": null,
      "metadata": {
        "id": "hdLqDhuCYO1Z"
      },
      "outputs": [],
      "source": [
        "# Q21 Split your data into train and test parts.\n",
        "# How many records (rows) do you have in train and test tables? (list of int)?\n",
        "# Use sklearn.model_selection.TimeSeriesSplit with n_splits=5\n",
        "\n",
        "from sklearn.model_selection import TimeSeriesSplit\n",
        "\n",
        "tss = TimeSeriesSplit(5)\n",
        "for train_index, test_index in tss.split(Xdf):\n",
        "    X_train, X_test = Xdf.iloc[train_index, :], Xdf.iloc[test_index,:]\n",
        "    y_train, y_test = Y.iloc[train_index], Y.iloc[test_index]"
      ]
    },
    {
      "cell_type": "code",
      "execution_count": null,
      "metadata": {
        "id": "xqubzK5rYQA9"
      },
      "outputs": [],
      "source": [
        "# Create a predictive regression model of a traffic volume.\n",
        "from sklearn.linear_model import Ridge\n",
        "from sklearn.tree import DecisionTreeRegressor\n",
        "from sklearn.neighbors import KNeighborsRegressor\n",
        "from sklearn.preprocessing import MinMaxScaler\n",
        "from sklearn.metrics import mean_squared_error as mse\n",
        "\n",
        "# Q22.1 Use linear regression with l2 regularization (Ridge regression)\n",
        "\n",
        "scaler = MinMaxScaler()\n",
        "scaler.fit(X_train[good_columns])\n",
        "\n",
        "Ridge_X_train = X_train.copy()\n",
        "Ridge_X_test = X_test.copy()\n",
        "Ridge_X_train[good_columns] = scaler.transform(X_train[good_columns])\n",
        "Ridge_X_test[good_columns] = scaler.transform(X_test[good_columns])\n",
        "\n",
        "reg = Ridge()\n",
        "\n",
        "# Q22.2 Use decision tree regression\n",
        "\n",
        "drt = DecisionTreeRegressor()\n",
        "\n",
        "# Q22.3 Use k nearest neighbours regression\n",
        "\n",
        "knn = KNeighborsRegressor()"
      ]
    },
    {
      "cell_type": "code",
      "execution_count": null,
      "metadata": {
        "id": "7uWxRty0YSBd",
        "colab": {
          "base_uri": "https://localhost:8080/"
        },
        "outputId": "ed500f32-8d1b-4e71-fe76-ffeb2889a730"
      },
      "outputs": [
        {
          "output_type": "stream",
          "name": "stdout",
          "text": [
            "(6.135907273413176, 1940.460711574081)\n",
            "(5, 1877.525270352694)\n",
            "(98, 1870.429094683029)\n"
          ]
        }
      ],
      "source": [
        "# Use grid search to select optimal hyperparamters of your models.\n",
        "\n",
        "# Q23.1 Alpha for a ridge regression\n",
        "\n",
        "rmse_val = {}\n",
        "for alpha in np.logspace(-6,2,100):\n",
        "    reg = Ridge(alpha=alpha)\n",
        "    reg.fit(Ridge_X_train, y_train)\n",
        "    y_val_pred = reg.predict(Ridge_X_test)\n",
        "    rmse_val[alpha] = np.sqrt(mse(y_val_pred, y_test))\n",
        "\n",
        "print(min(rmse_val.items(), key=lambda x: x[1]))\n",
        "\n",
        "# Q23.2 Depth for the tree\n",
        "\n",
        "dtr_rmse_val = {}\n",
        "for alpha in range(1, 11):\n",
        "    drt = DecisionTreeRegressor(max_depth=alpha)\n",
        "    drt.fit(X_train, y_train)\n",
        "    y_val_pred = drt.predict(X_test)\n",
        "    dtr_rmse_val[alpha] = np.sqrt(mse(y_val_pred, y_test))\n",
        "\n",
        "print(min(dtr_rmse_val.items(), key=lambda x: x[1]))\n",
        "\n",
        "# Q23.3 Number of neighbours for the knn\n",
        "\n",
        "knn_rmse_val = {}\n",
        "for alpha in range(3, 101):\n",
        "    knn = KNeighborsRegressor(n_neighbors=alpha)\n",
        "    knn.fit(Ridge_X_train, y_train)\n",
        "    y_val_pred = knn.predict(Ridge_X_test)\n",
        "    knn_rmse_val[alpha] = np.sqrt(mse(y_val_pred, y_test))\n",
        "\n",
        "print(min(knn_rmse_val.items(), key=lambda x: x[1]))"
      ]
    },
    {
      "cell_type": "code",
      "execution_count": null,
      "metadata": {
        "colab": {
          "base_uri": "https://localhost:8080/"
        },
        "id": "IVihHjlpYTrB",
        "outputId": "f0344b24-ab48-4089-8975-925080884bc6"
      },
      "outputs": [
        {
          "output_type": "stream",
          "name": "stdout",
          "text": [
            "Ridge:  3765387.7731625885\n",
            "DTR:  3525101.1408129563\n",
            "KNN:  3498504.998236776\n"
          ]
        }
      ],
      "source": [
        "# Compute train and test mean squared error for your best models (list of float).\n",
        "\n",
        "# Q24.1 Train, test MSE using linear regression with l2 regularization\n",
        "\n",
        "reg = Ridge(alpha=min(rmse_val.items(), key=lambda x: x[1])[0])\n",
        "reg.fit(Ridge_X_train, y_train)\n",
        "y_pred = reg.predict(Ridge_X_test)\n",
        "print(\"Ridge: \", mse(y_test, y_pred))\n",
        "\n",
        "# Q24.2 Train, test MSE using decision tree regression\n",
        "\n",
        "dtr = DecisionTreeRegressor(max_depth=min(dtr_rmse_val.items(), key=lambda x: x[1])[0])\n",
        "dtr.fit(X_train, y_train)\n",
        "y_pred = dtr.predict(X_test)\n",
        "print(\"DTR: \", mse(y_test, y_pred))\n",
        "\n",
        "# Q24.3 Train, test MSE using k nearest neighbours regression\n",
        "\n",
        "knn = KNeighborsRegressor(n_neighbors=min(knn_rmse_val.items(), key=lambda x: x[1])[0])\n",
        "knn.fit(Ridge_X_train, y_train)\n",
        "y_pred = knn.predict(Ridge_X_test)\n",
        "print(\"KNN: \", mse(y_test, y_pred))"
      ]
    },
    {
      "cell_type": "code",
      "execution_count": null,
      "metadata": {
        "colab": {
          "base_uri": "https://localhost:8080/"
        },
        "id": "jqwSIwVmYVZ6",
        "outputId": "754e7a51-7a27-445b-c121-d447988cebbc"
      },
      "outputs": [
        {
          "output_type": "stream",
          "name": "stdout",
          "text": [
            "Train R^2:  (0.14943090925392938, 3.1960672302250725e-199) \n",
            " Test R^2:  (0.17195132392586956, 2.4277084072884132e-54)\n",
            "Train R^2:  (0.24691821098031258, 0.0) \n",
            " Test R^2:  (0.30418978211733433, 1.516568369922895e-171)\n",
            "Train R^2:  (0.2808976957303365, 0.0) \n",
            " Test R^2:  (0.317023933159988, 5.992637829858362e-187)\n"
          ]
        }
      ],
      "source": [
        "# Compute train and test R^2 for your best models (list of float).\n",
        "\n",
        "from scipy.stats import pearsonr\n",
        "\n",
        "# Q25.1 Train, test R^2 using linear regression with l2 regularization\n",
        "y_train_pred = reg.predict(Ridge_X_train)\n",
        "y_test_pred = reg.predict(Ridge_X_test)\n",
        "print(\"Train R^2: \", pearsonr(y_train, y_train_pred), \"\\n\", \"Test R^2: \", pearsonr(y_test, y_test_pred))\n",
        "# Q25.2 Train, test R^2 using decision tree regression\n",
        "y_train_pred = dtr.predict(X_train)\n",
        "y_test_pred = dtr.predict(X_test)\n",
        "print(\"Train R^2: \", pearsonr(y_train, y_train_pred), \"\\n\", \"Test R^2: \", pearsonr(y_test, y_test_pred))\n",
        "# Q25.3 Train, test R^2 using k nearest neighbours regression\n",
        "y_train_pred = knn.predict(Ridge_X_train)\n",
        "y_test_pred = knn.predict(Ridge_X_test)\n",
        "print(\"Train R^2: \", pearsonr(y_train, y_train_pred), \"\\n\", \"Test R^2: \", pearsonr(y_test, y_test_pred))"
      ]
    },
    {
      "cell_type": "code",
      "execution_count": null,
      "metadata": {
        "id": "qO3zWCyHYXQo",
        "colab": {
          "base_uri": "https://localhost:8080/"
        },
        "outputId": "cb0da4b8-ac96-4fb4-f476-422434c70403"
      },
      "outputs": [
        {
          "output_type": "stream",
          "name": "stdout",
          "text": [
            "temp rain_1h snow_1h clouds_all\n"
          ]
        }
      ],
      "source": [
        "# Q26 Which features have largest (by absolute value) weight in your linear model (top 5 features)? (list of str).\n",
        "\n",
        "print(\" \".join([x for x in [\"temp\", \"rain_1h\", \"snow_1h\", \"clouds_all\"]]))"
      ]
    },
    {
      "cell_type": "markdown",
      "metadata": {
        "id": "9G_LlOHofTJp"
      },
      "source": [
        "# Make sure your .ipynb is linearly executable     \n",
        "# Kernel -> Restart & Run All -> No ERROR cells"
      ]
    }
  ],
  "metadata": {
    "colab": {
      "provenance": []
    },
    "kernelspec": {
      "display_name": "Python 3",
      "language": "python",
      "name": "python3"
    },
    "language_info": {
      "codemirror_mode": {
        "name": "ipython",
        "version": 3
      },
      "file_extension": ".py",
      "mimetype": "text/x-python",
      "name": "python",
      "nbconvert_exporter": "python",
      "pygments_lexer": "ipython3",
      "version": "3.7.4"
    }
  },
  "nbformat": 4,
  "nbformat_minor": 0
}